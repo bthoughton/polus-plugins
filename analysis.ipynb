{
 "cells": [
  {
   "cell_type": "code",
   "execution_count": 2,
   "metadata": {},
   "outputs": [],
   "source": [
    "import os\n",
    "import shutil\n",
    "import json\n",
    "import polus.plugins\n",
    "from polus.plugins import plugins\n",
    "from pathlib import Path\n",
    "from pprint import pprint"
   ]
  },
  {
   "cell_type": "code",
   "execution_count": 3,
   "metadata": {},
   "outputs": [],
   "source": [
    "manifests = [\n",
    "    'https://raw.githubusercontent.com/bthoughton/polus-plugins/feat/basic/regression/polus-basic-flatfield-correction-plugin/plugin.json',\n",
    "    'https://raw.githubusercontent.com/bthoughton/polus-plugins/feat/applyflatfield/transforms/images/polus-apply-flatfield-plugin/plugin.json',\n",
    "    'https://raw.githubusercontent.com/bthoughton/polus-plugins/plugin/smp-training/segmentation/polus-smp-training-plugin/plugin.json',\n",
    "    'https://raw.githubusercontent.com/bthoughton/polus-plugins/ftl/feat/binarization-threshold/transforms/images/polus-ftl-label-plugin/plugin.json',\n",
    "    'https://raw.githubusercontent.com/hamshkhawar/polus-plugins/file-renaming/formats/polus-file-renaming-plugin/plugin.json',\n",
    "    'https://raw.githubusercontent.com/bthoughton/polus-plugins/scaled-nyxus/features/scaled-nyxus/plugin.json'    \n",
    "]"
   ]
  },
  {
   "cell_type": "code",
   "execution_count": 4,
   "metadata": {},
   "outputs": [
    {
     "name": "stdout",
     "output_type": "stream",
     "text": [
      "['ApplyFlatfield', 'BasicFlatfieldCorrectionPlugin', 'DemoSmpTraining_Inference', 'FileRenaming', 'FtlLabel', 'ScaledNyxus']\n"
     ]
    }
   ],
   "source": [
    "for url in manifests:\n",
    "    polus.plugins.submit_plugin(url, refresh=True)\n",
    "    \n",
    "print(plugins.list)"
   ]
  },
  {
   "cell_type": "code",
   "execution_count": 5,
   "metadata": {},
   "outputs": [
    {
     "name": "stdout",
     "output_type": "stream",
     "text": [
      "The number of input images is 36\n",
      "\n",
      "The first 5 images:\n",
      "['x01_y01_wx0_wy0_c1.ome.tif',\n",
      " 'x01_y01_wx0_wy0_c2.ome.tif',\n",
      " 'x01_y01_wx0_wy1_c1.ome.tif',\n",
      " 'x01_y01_wx0_wy1_c2.ome.tif',\n",
      " 'x01_y01_wx0_wy2_c1.ome.tif']\n",
      "\n",
      "The last 5 images:\n",
      "['x01_y02_wx2_wy0_c2.ome.tif',\n",
      " 'x01_y02_wx2_wy1_c1.ome.tif',\n",
      " 'x01_y02_wx2_wy1_c2.ome.tif',\n",
      " 'x01_y02_wx2_wy2_c1.ome.tif',\n",
      " 'x01_y02_wx2_wy2_c2.ome.tif']\n"
     ]
    }
   ],
   "source": [
    "int_dir = Path('C:/Users/benho/polus-plugins/data/eastman/intensity')\n",
    "assert int_dir.exists(), \"The input directory does not exist\"\n",
    "\n",
    "int_files = [file.name for file in int_dir.iterdir()]\n",
    "int_files.sort()\n",
    "print('The number of input images is {}'.format(len(int_files)))\n",
    "print('\\nThe first 5 images:')\n",
    "pprint(int_files[:5])\n",
    "print('\\nThe last 5 images:')\n",
    "pprint(int_files[-5:])\n",
    "\n",
    "file_pattern = 'x0{x}_y0{y}_wx{t}_wy{p}_c{c}.ome.tif'"
   ]
  },
  {
   "cell_type": "code",
   "execution_count": 6,
   "metadata": {},
   "outputs": [
    {
     "name": "stdout",
     "output_type": "stream",
     "text": [
      "{'ApplyFlatfield': WindowsPath('C:/Users/benho/polus-plugins/data/eastman/ApplyFlatfield'),\n",
      " 'BasicFlatfieldCorrectionPlugin': WindowsPath('C:/Users/benho/polus-plugins/data/eastman/BasicFlatfieldCorrectionPlugin'),\n",
      " 'DemoSmpTraining_Inference': WindowsPath('C:/Users/benho/polus-plugins/data/eastman/DemoSmpTraining_Inference'),\n",
      " 'FileRenaming': WindowsPath('C:/Users/benho/polus-plugins/data/eastman/FileRenaming'),\n",
      " 'FtlLabel': WindowsPath('C:/Users/benho/polus-plugins/data/eastman/FtlLabel'),\n",
      " 'ScaledNyxus': WindowsPath('C:/Users/benho/polus-plugins/data/eastman/ScaledNyxus')}\n"
     ]
    }
   ],
   "source": [
    "out_dir = {}\n",
    "parent_out_dir = Path('C:/Users/benho/polus-plugins/data/eastman')\n",
    "workflow = [\n",
    "    'BasicFlatfieldCorrectionPlugin',\n",
    "    'ApplyFlatfield',\n",
    "    'DemoSmpTraining_Inference',\n",
    "    'FtlLabel',\n",
    "    'FileRenaming',\n",
    "    'ScaledNyxus'\n",
    "    ]\n",
    "\n",
    "if not parent_out_dir.exists():\n",
    "    os.mkdir(parent_out_dir)\n",
    "\n",
    "for name in workflow:\n",
    "    out_dir[name] = parent_out_dir.joinpath(name)\n",
    "    if out_dir[name].exists():\n",
    "        continue\n",
    "        ### CAUTION THIS REMOVES OLD OUT DIRECTORIES\n",
    "        shutil.rmtree(out_dir[name])\n",
    "    elif name :\n",
    "        os.mkdir(out_dir[name])\n",
    "    \n",
    "pprint(out_dir)"
   ]
  },
  {
   "cell_type": "code",
   "execution_count": 7,
   "metadata": {},
   "outputs": [],
   "source": [
    "flatfield_corr = plugins.BasicFlatfieldCorrectionPlugin\n",
    "apply_flatfield = plugins.ApplyFlatfield\n",
    "ftl = plugins.FtlLabel\n",
    "smp = plugins.DemoSmpTraining_Inference\n",
    "file_renaming = plugins.FileRenaming\n",
    "nyxus = plugins.ScaledNyxus"
   ]
  },
  {
   "cell_type": "code",
   "execution_count": 8,
   "metadata": {},
   "outputs": [
    {
     "data": {
      "text/plain": [
       "['inpDir', 'filePattern', 'darkfield', 'photobleach', 'groupBy', 'outDir']"
      ]
     },
     "execution_count": 8,
     "metadata": {},
     "output_type": "execute_result"
    }
   ],
   "source": [
    "[inp.name for inp in flatfield_corr.inputs + flatfield_corr.outputs]"
   ]
  },
  {
   "cell_type": "code",
   "execution_count": 9,
   "metadata": {},
   "outputs": [
    {
     "name": "stdout",
     "output_type": "stream",
     "text": [
      "inpDir = C:\\Users\\benho\\polus-plugins\\data\\eastman\\intensity\n",
      "filePattern = x0{x}_y0{y}_wx{t}_wy{p}_c{c}.ome.tif\n",
      "darkfield = True\n",
      "photobleach = False\n",
      "groupBy = xytp\n",
      "outDir = C:\\Users\\benho\\polus-plugins\\data\\eastman\\BasicFlatfieldCorrectionPlugin\n"
     ]
    }
   ],
   "source": [
    "flatfield_corr.inpDir = int_dir\n",
    "flatfield_corr.filePattern = file_pattern\n",
    "flatfield_corr.darkfield = True\n",
    "flatfield_corr.photobleach = False\n",
    "flatfield_corr.groupBy = 'xytp'\n",
    "flatfield_corr.outDir = str(out_dir['BasicFlatfieldCorrectionPlugin'])\n",
    "\n",
    "for inp in flatfield_corr.inputs + flatfield_corr.outputs:\n",
    "    print('{} = {}'.format(inp.name, inp.value))"
   ]
  },
  {
   "cell_type": "code",
   "execution_count": 10,
   "metadata": {},
   "outputs": [
    {
     "name": "stderr",
     "output_type": "stream",
     "text": [
      "17-Oct-22 12:20:14 - polus.plugins - INFO     - Running container with GPU: --gpus all. BasicFlatfieldCorrectionPlugin version 1.3.1\n"
     ]
    },
    {
     "name": "stdout",
     "output_type": "stream",
     "text": [
      "\n"
     ]
    }
   ],
   "source": [
    "flatfield_corr.run()"
   ]
  },
  {
   "cell_type": "code",
   "execution_count": 11,
   "metadata": {},
   "outputs": [
    {
     "data": {
      "text/plain": [
       "['darkPattern',\n",
       " 'ffDir',\n",
       " 'brightPattern',\n",
       " 'imgDir',\n",
       " 'imgPattern',\n",
       " 'photoPattern',\n",
       " 'outDir']"
      ]
     },
     "execution_count": 11,
     "metadata": {},
     "output_type": "execute_result"
    }
   ],
   "source": [
    "[inp.name for inp in apply_flatfield.inputs + apply_flatfield.outputs]"
   ]
  },
  {
   "cell_type": "code",
   "execution_count": 12,
   "metadata": {},
   "outputs": [
    {
     "name": "stdout",
     "output_type": "stream",
     "text": [
      "darkPattern = x01_y0(1-2)_wx(0-2)_wy(0-2)_c{c}_darkfield.ome.tif\n",
      "ffDir = C:\\Users\\benho\\polus-plugins\\data\\eastman\\BasicFlatfieldCorrectionPlugin\n",
      "brightPattern = x01_y0(1-2)_wx(0-2)_wy(0-2)_c{c}_flatfield.ome.tif\n",
      "imgDir = C:\\Users\\benho\\polus-plugins\\data\\eastman\\intensity\n",
      "imgPattern = x0{x}_y0{y}_wx{t}_wy{p}_c{c}.ome.tif\n",
      "photoPattern = None\n",
      "outDir = C:\\Users\\benho\\polus-plugins\\data\\eastman\\ApplyFlatfield\n"
     ]
    }
   ],
   "source": [
    "apply_flatfield.imgDir = int_dir\n",
    "apply_flatfield.imgPattern = file_pattern\n",
    "apply_flatfield.ffDir = out_dir['BasicFlatfieldCorrectionPlugin']\n",
    "apply_flatfield.brightPattern = 'x01_y0(1-2)_wx(0-2)_wy(0-2)_c{c}_flatfield.ome.tif'\n",
    "apply_flatfield.darkPattern = 'x01_y0(1-2)_wx(0-2)_wy(0-2)_c{c}_darkfield.ome.tif'\n",
    "apply_flatfield.outDir = out_dir['ApplyFlatfield']\n",
    "\n",
    "for inp in apply_flatfield.inputs + apply_flatfield.outputs:\n",
    "    print('{} = {}'.format(inp.name, inp.value))"
   ]
  },
  {
   "cell_type": "code",
   "execution_count": 13,
   "metadata": {},
   "outputs": [
    {
     "name": "stderr",
     "output_type": "stream",
     "text": [
      "17-Oct-22 12:20:27 - polus.plugins - INFO     - Running container with GPU: --gpus all. ApplyFlatfield version 1.2.0\n"
     ]
    },
    {
     "name": "stdout",
     "output_type": "stream",
     "text": [
      "\n"
     ]
    }
   ],
   "source": [
    "apply_flatfield.run()"
   ]
  },
  {
   "cell_type": "code",
   "execution_count": 14,
   "metadata": {},
   "outputs": [
    {
     "data": {
      "text/plain": [
       "['inferenceMode',\n",
       " 'imagesInferenceDir',\n",
       " 'inferencePattern',\n",
       " 'pretrainedModel',\n",
       " 'modelName',\n",
       " 'encoderBase',\n",
       " 'encoderVariant',\n",
       " 'encoderWeights',\n",
       " 'optimizerName',\n",
       " 'batchSize',\n",
       " 'imagesTrainDir',\n",
       " 'labelsTrainDir',\n",
       " 'trainPattern',\n",
       " 'imagesValidDir',\n",
       " 'labelsValidDir',\n",
       " 'validPattern',\n",
       " 'device',\n",
       " 'checkpointFrequency',\n",
       " 'lossName',\n",
       " 'maxEpochs',\n",
       " 'patience',\n",
       " 'minDelta',\n",
       " 'outputDir']"
      ]
     },
     "execution_count": 14,
     "metadata": {},
     "output_type": "execute_result"
    }
   ],
   "source": [
    "[inp.name for inp in smp.inputs + smp.outputs]"
   ]
  },
  {
   "cell_type": "code",
   "execution_count": 15,
   "metadata": {},
   "outputs": [
    {
     "name": "stdout",
     "output_type": "stream",
     "text": [
      "inferenceMode = inferenceMode.active\n",
      "imagesInferenceDir = C:\\Users\\benho\\polus-plugins\\data\\eastman\\ApplyFlatfield\n",
      "inferencePattern = x0{x}_y0{y}_wx{t}_wy{p}_c1.ome.tif\n",
      "pretrainedModel = C:\\Users\\benho\\polus-plugins\\data\\smp-models\\UnetPlusPlus-MCCLoss-efficientnet-b6-imagenet-Adam\n",
      "modelName = None\n",
      "encoderBase = None\n",
      "encoderVariant = None\n",
      "encoderWeights = None\n",
      "optimizerName = None\n",
      "batchSize = 10\n",
      "imagesTrainDir = None\n",
      "labelsTrainDir = None\n",
      "trainPattern = None\n",
      "imagesValidDir = None\n",
      "labelsValidDir = None\n",
      "validPattern = None\n",
      "device = gpu\n",
      "checkpointFrequency = 10\n",
      "lossName = lossName.MCCLoss\n",
      "maxEpochs = 10\n",
      "patience = 10\n",
      "minDelta = 10.0\n",
      "outputDir = C:\\Users\\benho\\polus-plugins\\data\\eastman\\DemoSmpTraining_Inference\n"
     ]
    }
   ],
   "source": [
    "smp_file_pattern = 'x0{x}_y0{y}_wx{t}_wy{p}_c1.ome.tif'\n",
    "\n",
    "smp.imagesInferenceDir = out_dir['ApplyFlatfield']\n",
    "smp.inferenceMode = 'active'\n",
    "smp.inferencePattern = smp_file_pattern\n",
    "smp.pretrainedModel = Path('C:/Users/benho/polus-plugins/data/smp-models/UnetPlusPlus-MCCLoss-efficientnet-b6-imagenet-Adam/')\n",
    "smp.batchSize = 10\n",
    "smp.device = 'gpu'\n",
    "smp.lossName = 'MCCLoss'\n",
    "smp.checkpointFrequency = 10\n",
    "smp.maxEpochs = 10\n",
    "smp.patience = 10\n",
    "smp.minDelta = 10.0\n",
    "smp.outputDir = out_dir['DemoSmpTraining_Inference']\n",
    "\n",
    "for inp in smp.inputs + smp.outputs:\n",
    "    print('{} = {}'.format(inp.name, inp.value))"
   ]
  },
  {
   "cell_type": "code",
   "execution_count": 16,
   "metadata": {},
   "outputs": [
    {
     "name": "stderr",
     "output_type": "stream",
     "text": [
      "17-Oct-22 12:20:31 - polus.plugins - INFO     - Running container with GPU: --gpus all. DemoSmpTraining_Inference version 0.5.9\n"
     ]
    },
    {
     "name": "stdout",
     "output_type": "stream",
     "text": [
      "\n"
     ]
    }
   ],
   "source": [
    "smp.run()"
   ]
  },
  {
   "cell_type": "code",
   "execution_count": 17,
   "metadata": {},
   "outputs": [
    {
     "data": {
      "text/plain": [
       "['inpDir', 'connectivity', 'binarizationThreshold', 'outDir']"
      ]
     },
     "execution_count": 17,
     "metadata": {},
     "output_type": "execute_result"
    }
   ],
   "source": [
    "[inp.name for inp in ftl.inputs + ftl.outputs]"
   ]
  },
  {
   "cell_type": "code",
   "execution_count": 18,
   "metadata": {},
   "outputs": [
    {
     "name": "stdout",
     "output_type": "stream",
     "text": [
      "inpDir = C:\\Users\\benho\\polus-plugins\\data\\eastman\\DemoSmpTraining_Inference\n",
      "connectivity = 1\n",
      "binarizationThreshold = 0.5\n",
      "outDir = C:\\Users\\benho\\polus-plugins\\data\\eastman\\FtlLabel\n"
     ]
    }
   ],
   "source": [
    "ftl.inpDir = out_dir['DemoSmpTraining_Inference']\n",
    "ftl.connectivity = 1\n",
    "ftl.binarizationThreshold = 0.5\n",
    "ftl.outDir = out_dir['FtlLabel']\n",
    "\n",
    "for inp in ftl.inputs + ftl.outputs:\n",
    "    print('{} = {}'.format(inp.name, inp.value))"
   ]
  },
  {
   "cell_type": "code",
   "execution_count": 19,
   "metadata": {},
   "outputs": [
    {
     "name": "stderr",
     "output_type": "stream",
     "text": [
      "17-Oct-22 12:22:15 - polus.plugins - INFO     - Running container with GPU: --gpus all. FtlLabel version 0.3.11\n"
     ]
    },
    {
     "name": "stdout",
     "output_type": "stream",
     "text": [
      "\n"
     ]
    }
   ],
   "source": [
    "ftl.run()"
   ]
  },
  {
   "cell_type": "code",
   "execution_count": 20,
   "metadata": {},
   "outputs": [
    {
     "data": {
      "text/plain": [
       "['filePattern', 'inpDir', 'outFilePattern', 'outDir']"
      ]
     },
     "execution_count": 20,
     "metadata": {},
     "output_type": "execute_result"
    }
   ],
   "source": [
    "[inp.name for inp in file_renaming.inputs + file_renaming.outputs]"
   ]
  },
  {
   "cell_type": "code",
   "execution_count": 21,
   "metadata": {},
   "outputs": [
    {
     "name": "stdout",
     "output_type": "stream",
     "text": [
      "filePattern = x0{row:d}_y0{col:d}_wx{well_row:d}_wy{well_col:d}_c1.ome.tif\n",
      "inpDir = C:\\Users\\benho\\polus-plugins\\data\\eastman\\FtlLabel\n",
      "outFilePattern = x0{row:d}_y0{col:d}_wx{well_row:d}_wy{well_col:d}_c2.ome.tif\n",
      "outDir = C:\\Users\\benho\\polus-plugins\\data\\eastman\\FileRenaming\n"
     ]
    }
   ],
   "source": [
    "smp_file_pattern = 'x0{x}_y0{y}_wx{t}_wy{p}_c1.ome.tif'\n",
    "\n",
    "file_renaming.inpDir = out_dir['FtlLabel']\n",
    "file_renaming.outDir = out_dir['FileRenaming']\n",
    "file_renaming.filePattern = 'x0{row:d}_y0{col:d}_wx{well_row:d}_wy{well_col:d}_c1.ome.tif'\n",
    "file_renaming.outFilePattern = 'x0{row:d}_y0{col:d}_wx{well_row:d}_wy{well_col:d}_c2.ome.tif'\n",
    "\n",
    "for inp in file_renaming.inputs + file_renaming.outputs:\n",
    "    print('{} = {}'.format(inp.name, inp.value))"
   ]
  },
  {
   "cell_type": "code",
   "execution_count": 22,
   "metadata": {},
   "outputs": [
    {
     "name": "stderr",
     "output_type": "stream",
     "text": [
      "17-Oct-22 12:22:21 - polus.plugins - INFO     - Running container with GPU: --gpus all. FileRenaming version 0.1.17\n"
     ]
    },
    {
     "name": "stdout",
     "output_type": "stream",
     "text": [
      "\n"
     ]
    }
   ],
   "source": [
    "file_renaming.run()"
   ]
  },
  {
   "cell_type": "code",
   "execution_count": 23,
   "metadata": {},
   "outputs": [
    {
     "data": {
      "text/plain": [
       "['inpDir',\n",
       " 'segDir',\n",
       " 'features',\n",
       " 'filePattern',\n",
       " 'neighborDist',\n",
       " 'pixelPerMicron',\n",
       " 'outDir']"
      ]
     },
     "execution_count": 23,
     "metadata": {},
     "output_type": "execute_result"
    }
   ],
   "source": [
    "[inp.name for inp in nyxus.inputs + nyxus.outputs]"
   ]
  },
  {
   "cell_type": "code",
   "execution_count": 24,
   "metadata": {},
   "outputs": [],
   "source": [
    "nyxus.inpDir = out_dir['ApplyFlatfield']\n",
    "nyxus.segDir = out_dir['FileRenaming']\n",
    "nyxus.features = 'INTEGRATED_INTENSITY,MEAN,AREA_PIXELS_COUNT'\n",
    "nyxus.filePattern = 'x{x+}.*c2.ome.tif' # x([0-9]+).*c2.ome.tif\n",
    "nyxus.neighborDist = 5\n",
    "nyxus.pixelPerMicron = 0.83612\n",
    "nyxus.outDir = out_dir['ScaledNyxus']\n",
    "\n",
    "# 'x0{x}_y0{y}_wx{t}_wy{p}_c1.ome.tif'"
   ]
  },
  {
   "cell_type": "code",
   "execution_count": 25,
   "metadata": {},
   "outputs": [
    {
     "name": "stderr",
     "output_type": "stream",
     "text": [
      "17-Oct-22 12:22:24 - polus.plugins - INFO     - Running container with GPU: --gpus all. ScaledNyxus version 0.1.0\n"
     ]
    },
    {
     "name": "stdout",
     "output_type": "stream",
     "text": [
      "\n"
     ]
    }
   ],
   "source": [
    "nyxus.run()"
   ]
  },
  {
   "cell_type": "code",
   "execution_count": null,
   "metadata": {},
   "outputs": [],
   "source": []
  }
 ],
 "metadata": {
  "kernelspec": {
   "display_name": "Python 3.9.7 ('axle')",
   "language": "python",
   "name": "python3"
  },
  "language_info": {
   "codemirror_mode": {
    "name": "ipython",
    "version": 3
   },
   "file_extension": ".py",
   "mimetype": "text/x-python",
   "name": "python",
   "nbconvert_exporter": "python",
   "pygments_lexer": "ipython3",
   "version": "3.9.7"
  },
  "orig_nbformat": 4,
  "vscode": {
   "interpreter": {
    "hash": "6b84e13a22fe8d6e960b01b4c77917479b33e9b67cf0dccd368f31dd441fc665"
   }
  }
 },
 "nbformat": 4,
 "nbformat_minor": 2
}
