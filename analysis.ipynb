{
 "cells": [
  {
   "cell_type": "code",
   "execution_count": 1,
   "metadata": {},
   "outputs": [],
   "source": [
    "import os\n",
    "import shutil\n",
    "import json\n",
    "import polus.plugins\n",
    "from polus.plugins import plugins\n",
    "from pathlib import Path\n",
    "from pprint import pprint"
   ]
  },
  {
   "cell_type": "code",
   "execution_count": 2,
   "metadata": {},
   "outputs": [],
   "source": [
    "manifests = [\n",
    "    'https://raw.githubusercontent.com/bthoughton/polus-plugins/feat/basic/regression/polus-basic-flatfield-correction-plugin/plugin.json',\n",
    "    'https://raw.githubusercontent.com/bthoughton/polus-plugins/feat/applyflatfield/transforms/images/polus-apply-flatfield-plugin/plugin.json',\n",
    "    'https://raw.githubusercontent.com/bthoughton/polus-plugins/plugin/smp-training/segmentation/polus-smp-training-plugin/plugin.json',\n",
    "    'https://raw.githubusercontent.com/bthoughton/polus-plugins/ftl/feat/binarization-threshold/transforms/images/polus-ftl-label-plugin/plugin.json',\n",
    "    'https://raw.githubusercontent.com/hamshkhawar/polus-plugins/scaled-nyxus/features/nyxus-plugin/plugin.json',\n",
    "    'https://raw.githubusercontent.com/hamshkhawar/polus-plugins/thresh_plugin/transforms/tabular/tabular-thresholding-plugin/plugin.json',\n",
    "    'https://raw.githubusercontent.com/bthoughton/polus-plugins/csv-statistics/features/polus-csv-statistics-plugin/plugin.json'\n",
    "]"
   ]
  },
  {
   "cell_type": "code",
   "execution_count": 3,
   "metadata": {},
   "outputs": [
    {
     "name": "stdout",
     "output_type": "stream",
     "text": [
      "['ApplyFlatfield', 'BasicFlatfieldCorrectionPlugin', 'CsvStatistics', 'DemoSmpTraining_Inference', 'FtlLabel', 'NyxusPlugin', 'TabularThresholdingPlugin']\n"
     ]
    }
   ],
   "source": [
    "for url in manifests:\n",
    "    polus.plugins.submit_plugin(url, refresh=True)\n",
    "    \n",
    "print(plugins.list)"
   ]
  },
  {
   "cell_type": "code",
   "execution_count": 4,
   "metadata": {},
   "outputs": [
    {
     "name": "stdout",
     "output_type": "stream",
     "text": [
      "The number of input images is 36\n",
      "\n",
      "The first 5 images:\n",
      "['x01_y01_wx0_wy0_c1.ome.tif',\n",
      " 'x01_y01_wx0_wy0_c2.ome.tif',\n",
      " 'x01_y01_wx0_wy1_c1.ome.tif',\n",
      " 'x01_y01_wx0_wy1_c2.ome.tif',\n",
      " 'x01_y01_wx0_wy2_c1.ome.tif']\n",
      "\n",
      "The last 5 images:\n",
      "['x01_y02_wx2_wy0_c2.ome.tif',\n",
      " 'x01_y02_wx2_wy1_c1.ome.tif',\n",
      " 'x01_y02_wx2_wy1_c2.ome.tif',\n",
      " 'x01_y02_wx2_wy2_c1.ome.tif',\n",
      " 'x01_y02_wx2_wy2_c2.ome.tif']\n"
     ]
    }
   ],
   "source": [
    "int_dir = Path('/home/ben/polus-plugins/data/eastman/intensity')\n",
    "assert int_dir.exists(), \"The input directory does not exist\"\n",
    "\n",
    "int_files = [file.name for file in int_dir.iterdir()]\n",
    "int_files.sort()\n",
    "print('The number of input images is {}'.format(len(int_files)))\n",
    "print('\\nThe first 5 images:')\n",
    "pprint(int_files[:5])\n",
    "print('\\nThe last 5 images:')\n",
    "pprint(int_files[-5:])\n",
    "\n",
    "file_pattern = 'x0{x}_y0{y}_wx{t}_wy{p}_c{c}.ome.tif'"
   ]
  },
  {
   "cell_type": "code",
   "execution_count": 5,
   "metadata": {},
   "outputs": [
    {
     "name": "stdout",
     "output_type": "stream",
     "text": [
      "{'ApplyFlatfield': PosixPath('/home/ben/polus-plugins/data/eastman/ApplyFlatfield'),\n",
      " 'BasicFlatfieldCorrectionPlugin': PosixPath('/home/ben/polus-plugins/data/eastman/BasicFlatfieldCorrectionPlugin'),\n",
      " 'CsvStatistics': PosixPath('/home/ben/polus-plugins/data/eastman/CsvStatistics'),\n",
      " 'DemoSmpTraining_Inference': PosixPath('/home/ben/polus-plugins/data/eastman/DemoSmpTraining_Inference'),\n",
      " 'FtlLabel': PosixPath('/home/ben/polus-plugins/data/eastman/FtlLabel'),\n",
      " 'NyxusPlugin': PosixPath('/home/ben/polus-plugins/data/eastman/NyxusPlugin'),\n",
      " 'TabularThresholdingPlugin': PosixPath('/home/ben/polus-plugins/data/eastman/TabularThresholdingPlugin')}\n"
     ]
    }
   ],
   "source": [
    "out_dir = {}\n",
    "parent_out_dir = int_dir.parent\n",
    "workflow = [\n",
    "    'BasicFlatfieldCorrectionPlugin',\n",
    "    'ApplyFlatfield',\n",
    "    'DemoSmpTraining_Inference',\n",
    "    'FtlLabel',\n",
    "    'NyxusPlugin',\n",
    "    'TabularThresholdingPlugin',\n",
    "    'CsvStatistics'\n",
    "    ]\n",
    "\n",
    "if not parent_out_dir.exists():\n",
    "    os.mkdir(parent_out_dir)\n",
    "\n",
    "for name in workflow:\n",
    "    out_dir[name] = parent_out_dir.joinpath(name)\n",
    "    if out_dir[name].exists():\n",
    "        continue\n",
    "        ### CAUTION THIS REMOVES OLD OUT DIRECTORIES\n",
    "        #shutil.rmtree(out_dir[name])\n",
    "    elif name :\n",
    "        os.mkdir(out_dir[name])\n",
    "    \n",
    "pprint(out_dir)"
   ]
  },
  {
   "cell_type": "code",
   "execution_count": 6,
   "metadata": {},
   "outputs": [],
   "source": [
    "flatfield_corr = plugins.BasicFlatfieldCorrectionPlugin\n",
    "apply_flatfield = plugins.ApplyFlatfield\n",
    "ftl = plugins.FtlLabel\n",
    "smp = plugins.DemoSmpTraining_Inference\n",
    "nyxus = plugins.NyxusPlugin\n",
    "threshold = plugins.TabularThresholdingPlugin\n",
    "csv = plugins.CsvStatistics"
   ]
  },
  {
   "cell_type": "code",
   "execution_count": 7,
   "metadata": {},
   "outputs": [
    {
     "data": {
      "text/plain": [
       "['inpDir', 'filePattern', 'darkfield', 'photobleach', 'groupBy', 'outDir']"
      ]
     },
     "execution_count": 7,
     "metadata": {},
     "output_type": "execute_result"
    }
   ],
   "source": [
    "[inp.name for inp in flatfield_corr.inputs + flatfield_corr.outputs]"
   ]
  },
  {
   "cell_type": "code",
   "execution_count": 8,
   "metadata": {},
   "outputs": [
    {
     "name": "stdout",
     "output_type": "stream",
     "text": [
      "inpDir = /home/ben/polus-plugins/data/eastman/intensity\n",
      "filePattern = x0{x}_y0{y}_wx{t}_wy{p}_c{c}.ome.tif\n",
      "darkfield = True\n",
      "photobleach = False\n",
      "groupBy = xytp\n",
      "outDir = /home/ben/polus-plugins/data/eastman/BasicFlatfieldCorrectionPlugin\n"
     ]
    }
   ],
   "source": [
    "flatfield_corr.inpDir = int_dir\n",
    "flatfield_corr.filePattern = file_pattern\n",
    "flatfield_corr.darkfield = True\n",
    "flatfield_corr.photobleach = False\n",
    "flatfield_corr.groupBy = 'xytp'\n",
    "flatfield_corr.outDir = str(out_dir['BasicFlatfieldCorrectionPlugin'])\n",
    "\n",
    "for inp in flatfield_corr.inputs + flatfield_corr.outputs:\n",
    "    print('{} = {}'.format(inp.name, inp.value))"
   ]
  },
  {
   "cell_type": "code",
   "execution_count": 9,
   "metadata": {},
   "outputs": [
    {
     "name": "stderr",
     "output_type": "stream",
     "text": [
      "16-Nov-22 10:40:00 - polus.plugins - INFO     - Running container with GPU: --gpus all. BasicFlatfieldCorrectionPlugin version 1.3.1\n",
      "16-Nov-22 15:40:02 - basicpy.tools.dct_tools - WARNING  - the value of the environment variable BASIC_DCT_BACKEND is not in [\"JAX\",\"SCIPY\"]\n",
      "16-Nov-22 15:40:02 - main     - INFO     - Parsing arguments...\n",
      "16-Nov-22 15:40:02 - main     - INFO     - input_dir = /data/inputs/input0\n",
      "16-Nov-22 15:40:02 - main     - INFO     - get_darkfield = True\n",
      "16-Nov-22 15:40:02 - main     - INFO     - get_photobleach = False\n",
      "16-Nov-22 15:40:02 - main     - INFO     - file_pattern = x0{x}_y0{y}_wx{t}_wy{p}_c{c}.ome.tif\n",
      "16-Nov-22 15:40:02 - main     - INFO     - output_dir = /data/outputs/output0/images\n",
      "16-Nov-22 15:40:02 - main     - INFO     - FILE_EXT = .ome.tif\n",
      "16-Nov-22 15:40:02 - main     - INFO     - Running on 4 processes.\n",
      "16-Nov-22 15:40:02 - proc 1   - INFO     - x01_y0(1-2)_wx(0-2)_wy(0-2)_c1.ome.tif: Loading images...\n",
      "16-Nov-22 15:40:02 - proc 2   - INFO     - x01_y0(1-2)_wx(0-2)_wy(0-2)_c2.ome.tif: Loading images...\n",
      "16-Nov-22 15:40:02 - proc 2   - INFO     - x01_y0(1-2)_wx(0-2)_wy(0-2)_c2.ome.tif: 100.00% complete\n",
      "16-Nov-22 15:40:02 - proc 2   - INFO     - x01_y0(1-2)_wx(0-2)_wy(0-2)_c2.ome.tif: Beginning flatfield estimation\n",
      "16-Nov-22 15:40:02 - absl     - WARNING  - No GPU/TPU found, falling back to CPU. (Set TF_CPP_MIN_LOG_LEVEL=0 and rerun for more info.)\n",
      "16-Nov-22 15:40:02 - proc 1   - INFO     - x01_y0(1-2)_wx(0-2)_wy(0-2)_c1.ome.tif: 100.00% complete\n",
      "16-Nov-22 15:40:02 - proc 1   - INFO     - x01_y0(1-2)_wx(0-2)_wy(0-2)_c1.ome.tif: Beginning flatfield estimation\n",
      "16-Nov-22 15:40:02 - absl     - WARNING  - No GPU/TPU found, falling back to CPU. (Set TF_CPP_MIN_LOG_LEVEL=0 and rerun for more info.)\n",
      "16-Nov-22 15:40:05 - basicpy.basicpy - WARNING  - Reweighting did not converge.\n",
      "16-Nov-22 15:40:05 - proc 2   - INFO     - x01_y0(1-2)_wx(0-2)_wy(0-2)_c2.ome.tif: Saving flatfield: x01_y0(1-2)_wx(0-2)_wy(0-2)_c2_flatfield.ome.tif\n",
      "16-Nov-22 15:40:05 - proc 1   - INFO     - x01_y0(1-2)_wx(0-2)_wy(0-2)_c1.ome.tif: Saving flatfield: x01_y0(1-2)_wx(0-2)_wy(0-2)_c1_flatfield.ome.tif\n",
      "16-Nov-22 15:40:05 - basic    - INFO     - Processes 100.00% complete\n"
     ]
    },
    {
     "name": "stdout",
     "output_type": "stream",
     "text": [
      "\n"
     ]
    }
   ],
   "source": [
    "flatfield_corr.run()"
   ]
  },
  {
   "cell_type": "code",
   "execution_count": 10,
   "metadata": {},
   "outputs": [
    {
     "data": {
      "text/plain": [
       "['darkPattern',\n",
       " 'ffDir',\n",
       " 'brightPattern',\n",
       " 'imgDir',\n",
       " 'imgPattern',\n",
       " 'photoPattern',\n",
       " 'outDir']"
      ]
     },
     "execution_count": 10,
     "metadata": {},
     "output_type": "execute_result"
    }
   ],
   "source": [
    "[inp.name for inp in apply_flatfield.inputs + apply_flatfield.outputs]"
   ]
  },
  {
   "cell_type": "code",
   "execution_count": 11,
   "metadata": {},
   "outputs": [
    {
     "name": "stdout",
     "output_type": "stream",
     "text": [
      "darkPattern = x01_y0(1-2)_wx(0-2)_wy(0-2)_c{c}_darkfield.ome.tif\n",
      "ffDir = /home/ben/polus-plugins/data/eastman/BasicFlatfieldCorrectionPlugin\n",
      "brightPattern = x01_y0(1-2)_wx(0-2)_wy(0-2)_c{c}_flatfield.ome.tif\n",
      "imgDir = /home/ben/polus-plugins/data/eastman/intensity\n",
      "imgPattern = x0{x}_y0{y}_wx{t}_wy{p}_c{c}.ome.tif\n",
      "photoPattern = None\n",
      "outDir = /home/ben/polus-plugins/data/eastman/ApplyFlatfield\n"
     ]
    }
   ],
   "source": [
    "apply_flatfield.imgDir = int_dir\n",
    "apply_flatfield.imgPattern = file_pattern\n",
    "apply_flatfield.ffDir = out_dir['BasicFlatfieldCorrectionPlugin']\n",
    "apply_flatfield.brightPattern = 'x01_y0(1-2)_wx(0-2)_wy(0-2)_c{c}_flatfield.ome.tif'\n",
    "apply_flatfield.darkPattern = 'x01_y0(1-2)_wx(0-2)_wy(0-2)_c{c}_darkfield.ome.tif'\n",
    "apply_flatfield.outDir = out_dir['ApplyFlatfield']\n",
    "\n",
    "for inp in apply_flatfield.inputs + apply_flatfield.outputs:\n",
    "    print('{} = {}'.format(inp.name, inp.value))"
   ]
  },
  {
   "cell_type": "code",
   "execution_count": 12,
   "metadata": {},
   "outputs": [
    {
     "name": "stderr",
     "output_type": "stream",
     "text": [
      "16-Nov-22 10:40:06 - polus.plugins - INFO     - Running container with GPU: --gpus all. ApplyFlatfield version 1.2.0\n",
      "16-Nov-22 15:40:06 - main     - INFO     - Parsing arguments...\n",
      "16-Nov-22 15:40:06 - main     - INFO     - darkPattern = x01_y0(1-2)_wx(0-2)_wy(0-2)_c{c}_darkfield.ome.tif\n",
      "16-Nov-22 15:40:06 - main     - INFO     - ffDir = /data/inputs/input0/images\n",
      "16-Nov-22 15:40:06 - main     - INFO     - brightPattern = x01_y0(1-2)_wx(0-2)_wy(0-2)_c{c}_flatfield.ome.tif\n",
      "16-Nov-22 15:40:06 - main     - INFO     - imgDir = /data/inputs/input1\n",
      "16-Nov-22 15:40:06 - main     - INFO     - imgPattern = x0{x}_y0{y}_wx{t}_wy{p}_c{c}.ome.tif\n",
      "16-Nov-22 15:40:06 - main     - INFO     - photoPattern = None\n",
      "16-Nov-22 15:40:06 - main     - INFO     - outDir = /data/outputs/output0\n",
      "16-Nov-22 15:40:06 - main     - INFO     - Output file extension = .ome.tif\n",
      "16-Nov-22 15:40:06 - main     - INFO     - Running with 4 processes.\n",
      "16-Nov-22 15:40:06 - unshade 2 - INFO     - 100.00% complete\n",
      "16-Nov-22 15:40:06 - unshade 2 - INFO     - 100.00% complete\n",
      "16-Nov-22 15:40:06 - unshade 1 - INFO     - 100.00% complete\n",
      "16-Nov-22 15:40:07 - unshade 1 - INFO     - 100.00% complete\n",
      "16-Nov-22 15:40:07 - main     - INFO     - Processes 100.00% complete\n",
      "16-Nov-22 15:40:07 - unshade 1 - INFO     - 100.00% complete\n",
      "16-Nov-22 15:40:07 - unshade 1 - INFO     - 100.00% complete\n",
      "16-Nov-22 15:40:07 - unshade 2 - INFO     - 100.00% complete\n",
      "16-Nov-22 15:40:07 - unshade 2 - INFO     - 100.00% complete\n",
      "16-Nov-22 15:40:07 - main     - INFO     - Processes 100.00% complete\n"
     ]
    },
    {
     "name": "stdout",
     "output_type": "stream",
     "text": [
      "\n"
     ]
    }
   ],
   "source": [
    "apply_flatfield.run()"
   ]
  },
  {
   "cell_type": "code",
   "execution_count": 13,
   "metadata": {},
   "outputs": [
    {
     "data": {
      "text/plain": [
       "['inferenceMode',\n",
       " 'imagesInferenceDir',\n",
       " 'inferencePattern',\n",
       " 'pretrainedModel',\n",
       " 'modelName',\n",
       " 'encoderBase',\n",
       " 'encoderVariant',\n",
       " 'encoderWeights',\n",
       " 'optimizerName',\n",
       " 'batchSize',\n",
       " 'imagesTrainDir',\n",
       " 'labelsTrainDir',\n",
       " 'trainPattern',\n",
       " 'imagesValidDir',\n",
       " 'labelsValidDir',\n",
       " 'validPattern',\n",
       " 'device',\n",
       " 'checkpointFrequency',\n",
       " 'lossName',\n",
       " 'maxEpochs',\n",
       " 'patience',\n",
       " 'minDelta',\n",
       " 'outputDir']"
      ]
     },
     "execution_count": 13,
     "metadata": {},
     "output_type": "execute_result"
    }
   ],
   "source": [
    "[inp.name for inp in smp.inputs + smp.outputs]"
   ]
  },
  {
   "cell_type": "code",
   "execution_count": 14,
   "metadata": {},
   "outputs": [
    {
     "name": "stdout",
     "output_type": "stream",
     "text": [
      "inferenceMode = inferenceMode.active\n",
      "imagesInferenceDir = /home/ben/polus-plugins/data/eastman/ApplyFlatfield\n",
      "inferencePattern = x0{x}_y0{y}_wx{t}_wy{p}_c1.ome.tif\n",
      "pretrainedModel = /home/ben/polus-plugins/data/UnetPlusPlus-MCCLoss-efficientnet-b6-imagenet-Adam\n",
      "modelName = None\n",
      "encoderBase = None\n",
      "encoderVariant = None\n",
      "encoderWeights = None\n",
      "optimizerName = None\n",
      "batchSize = 10\n",
      "imagesTrainDir = None\n",
      "labelsTrainDir = None\n",
      "trainPattern = None\n",
      "imagesValidDir = None\n",
      "labelsValidDir = None\n",
      "validPattern = None\n",
      "device = gpu\n",
      "checkpointFrequency = 10\n",
      "lossName = lossName.MCCLoss\n",
      "maxEpochs = 10\n",
      "patience = 10\n",
      "minDelta = 10.0\n",
      "outputDir = /home/ben/polus-plugins/data/eastman/DemoSmpTraining_Inference\n"
     ]
    }
   ],
   "source": [
    "smp_file_pattern = 'x0{x}_y0{y}_wx{t}_wy{p}_c1.ome.tif'\n",
    "\n",
    "smp.imagesInferenceDir = out_dir['ApplyFlatfield']\n",
    "smp.inferenceMode = 'active'\n",
    "smp.inferencePattern = smp_file_pattern\n",
    "smp.pretrainedModel = Path('/home/ben/polus-plugins/data/UnetPlusPlus-MCCLoss-efficientnet-b6-imagenet-Adam/')\n",
    "smp.batchSize = 10\n",
    "smp.device = 'gpu'\n",
    "smp.lossName = 'MCCLoss'\n",
    "smp.checkpointFrequency = 10\n",
    "smp.maxEpochs = 10\n",
    "smp.patience = 10\n",
    "smp.minDelta = 10.0\n",
    "smp.outputDir = out_dir['DemoSmpTraining_Inference']\n",
    "\n",
    "for inp in smp.inputs + smp.outputs:\n",
    "    print('{} = {}'.format(inp.name, inp.value))"
   ]
  },
  {
   "cell_type": "code",
   "execution_count": 15,
   "metadata": {},
   "outputs": [
    {
     "name": "stderr",
     "output_type": "stream",
     "text": [
      "16-Nov-22 10:40:07 - polus.plugins - INFO     - Running container with GPU: --gpus all. DemoSmpTraining_Inference version 0.5.9\n",
      "16-Nov-22 15:40:10 - main - INFO - Parsing arguments...\n",
      "16-Nov-22 15:40:10 - main - INFO - Using device: cuda...\n",
      "16-Nov-22 15:40:11 - main - INFO - Using input arguments:\n",
      "16-Nov-22 15:40:11 - main - INFO - \tbatchSize = 10\n",
      "16-Nov-22 15:40:11 - main - INFO - \tcheckFreq = 10\n",
      "16-Nov-22 15:40:11 - main - INFO - \tdevice = gpu\n",
      "16-Nov-22 15:40:11 - main - INFO - \tencoderBase = ResNet\n",
      "16-Nov-22 15:40:11 - main - INFO - \tencoderVariant = resnet34\n",
      "16-Nov-22 15:40:11 - main - INFO - \tencoderWeights = None\n",
      "16-Nov-22 15:40:11 - main - INFO - \timagesInferenceDir = /data/inputs/input0\n",
      "16-Nov-22 15:40:11 - main - INFO - \timagesTrainDir = None\n",
      "16-Nov-22 15:40:11 - main - INFO - \timagesValidDir = None\n",
      "16-Nov-22 15:40:11 - main - INFO - \tinferenceMode = active\n",
      "16-Nov-22 15:40:11 - main - INFO - \tinferencePattern = x0{x}_y0{y}_wx{t}_wy{p}_c1.ome.tif\n",
      "16-Nov-22 15:40:11 - main - INFO - \tlabelsTrainDir = None\n",
      "16-Nov-22 15:40:11 - main - INFO - \tlabelsValidDir = None\n",
      "16-Nov-22 15:40:11 - main - INFO - \tlossName = MCCLoss\n",
      "16-Nov-22 15:40:11 - main - INFO - \tmaxEpochs = 10\n",
      "16-Nov-22 15:40:11 - main - INFO - \tminDelta = 10.0\n",
      "16-Nov-22 15:40:11 - main - INFO - \tmodelName = Unet\n",
      "16-Nov-22 15:40:11 - main - INFO - \toptimizerName = Adam\n",
      "16-Nov-22 15:40:11 - main - INFO - \toutputDir = /data/outputs/output0\n",
      "16-Nov-22 15:40:11 - main - INFO - \tpatience = 10\n",
      "16-Nov-22 15:40:11 - main - INFO - \tpretrainedModel = /data/inputs/input1\n",
      "16-Nov-22 15:40:11 - main - INFO - \ttensorboardProfiler = False\n",
      "16-Nov-22 15:40:11 - main - INFO - \ttrainPattern = .*\n",
      "16-Nov-22 15:40:11 - main - INFO - \tvalidPattern = .*\n",
      "16-Nov-22 15:40:11 - training - INFO - Initializing model...\n",
      "Downloading: \"https://github.com/lukemelas/EfficientNet-PyTorch/releases/download/1.0/efficientnet-b6-c76e70fd.pth\" to /root/.cache/torch/hub/checkpoints/efficientnet-b6-c76e70fd.pth\n",
      "100%|██████████| 165M/165M [00:09<00:00, 19.2MB/s] \n",
      "16-Nov-22 15:40:33 - main - INFO - Determining maximum possible batch size...\n",
      "16-Nov-22 15:40:33 - main - INFO - found 11785469952 bytes of free memory on device cuda...\n",
      "16-Nov-22 15:40:33 - main - INFO - Using batch size: 10...\n",
      "running inference on 18 images: 100%|██████████| 17/17 [00:05<00:00,  2.95it/s]\n"
     ]
    },
    {
     "name": "stdout",
     "output_type": "stream",
     "text": [
      "\n"
     ]
    }
   ],
   "source": [
    "smp.run()"
   ]
  },
  {
   "cell_type": "code",
   "execution_count": 16,
   "metadata": {},
   "outputs": [
    {
     "data": {
      "text/plain": [
       "['inpDir', 'connectivity', 'binarizationThreshold', 'outDir']"
      ]
     },
     "execution_count": 16,
     "metadata": {},
     "output_type": "execute_result"
    }
   ],
   "source": [
    "[inp.name for inp in ftl.inputs + ftl.outputs]"
   ]
  },
  {
   "cell_type": "code",
   "execution_count": 17,
   "metadata": {},
   "outputs": [
    {
     "name": "stdout",
     "output_type": "stream",
     "text": [
      "inpDir = /home/ben/polus-plugins/data/eastman/DemoSmpTraining_Inference\n",
      "connectivity = 1\n",
      "binarizationThreshold = 0.5\n",
      "outDir = /home/ben/polus-plugins/data/eastman/FtlLabel\n"
     ]
    }
   ],
   "source": [
    "ftl.inpDir = out_dir['DemoSmpTraining_Inference']\n",
    "ftl.connectivity = 1\n",
    "ftl.binarizationThreshold = 0.5\n",
    "ftl.outDir = out_dir['FtlLabel']\n",
    "\n",
    "for inp in ftl.inputs + ftl.outputs:\n",
    "    print('{} = {}'.format(inp.name, inp.value))"
   ]
  },
  {
   "cell_type": "code",
   "execution_count": 18,
   "metadata": {},
   "outputs": [
    {
     "name": "stderr",
     "output_type": "stream",
     "text": [
      "16-Nov-22 10:40:40 - polus.plugins - INFO     - Running container with GPU: --gpus all. FtlLabel version 0.3.11\n",
      "16-Nov-22 15:40:41 - main     - INFO     - Parsing arguments...\n",
      "16-Nov-22 15:40:41 - main     - INFO     - inpDir = /data/inputs/input0\n",
      "16-Nov-22 15:40:41 - main     - INFO     - connectivity = 1\n",
      "16-Nov-22 15:40:41 - main     - INFO     - binarizationThreshold = 0.5\n",
      "16-Nov-22 15:40:41 - main     - INFO     - outDir = /data/outputs/output0\n",
      "16-Nov-22 15:40:41 - main     - INFO     - processing 18 images in total...\n",
      "16-Nov-22 15:40:41 - main     - INFO     - processing 18 small images with cython...\n",
      "16-Nov-22 15:40:41 - main     - INFO     - processing 0 large images with rust\n",
      "/ftl-rust/src/main.py:113: DeprecationWarning: in the future the `.dtype` attribute of a given datatype object must be a valid dtype instance. `data_type.dtype` may need to be coerced using `np.dtype(data_type.dtype)`. (Deprecated NumPy 1.20)\n",
      "  labels = ftl.label_nd(image, connectivity)\n",
      "16-Nov-22 15:40:42 - main     - INFO     - 100.00% complete\n"
     ]
    },
    {
     "name": "stdout",
     "output_type": "stream",
     "text": [
      "\n"
     ]
    }
   ],
   "source": [
    "ftl.run()"
   ]
  },
  {
   "cell_type": "code",
   "execution_count": 19,
   "metadata": {},
   "outputs": [],
   "source": [
    "# [inp.name for inp in file_renaming.inputs + file_renaming.outputs]"
   ]
  },
  {
   "cell_type": "code",
   "execution_count": 20,
   "metadata": {},
   "outputs": [],
   "source": [
    "# smp_file_pattern = 'x0{x}_y0{y}_wx{t}_wy{p}_c1.ome.tif'\n",
    "\n",
    "# file_renaming.inpDir = out_dir['FtlLabel']\n",
    "# file_renaming.outDir = out_dir['FileRenaming']\n",
    "# file_renaming.filePattern = 'x0{row:d}_y0{col:d}_wx{well_row:d}_wy{well_col:d}_c1.ome.tif'\n",
    "# file_renaming.outFilePattern = 'x0{row:d}_y0{col:d}_wx{well_row:d}_wy{well_col:d}_c2.ome.tif'\n",
    "\n",
    "# for inp in file_renaming.inputs + file_renaming.outputs:\n",
    "#     print('{} = {}'.format(inp.name, inp.value))"
   ]
  },
  {
   "cell_type": "code",
   "execution_count": 21,
   "metadata": {},
   "outputs": [],
   "source": [
    "# file_renaming.run()"
   ]
  },
  {
   "cell_type": "code",
   "execution_count": 22,
   "metadata": {},
   "outputs": [
    {
     "data": {
      "text/plain": [
       "['inpDir',\n",
       " 'segDir',\n",
       " 'features',\n",
       " 'filePattern',\n",
       " 'mapVar',\n",
       " 'neighborDist',\n",
       " 'pixelPerMicron',\n",
       " 'outDir']"
      ]
     },
     "execution_count": 22,
     "metadata": {},
     "output_type": "execute_result"
    }
   ],
   "source": [
    "[inp.name for inp in nyxus.inputs + nyxus.outputs]"
   ]
  },
  {
   "cell_type": "code",
   "execution_count": 23,
   "metadata": {},
   "outputs": [],
   "source": [
    "nyxus.inpDir = out_dir['ApplyFlatfield']\n",
    "nyxus.segDir = out_dir['FtlLabel']\n",
    "nyxus.features = 'BASIC_MORPHOLOGY,ALL_INTENSITY'\n",
    "nyxus.filePattern = 'x{x+}.*c1.ome.tif' # x([0-9]+).*c2.ome.tif\n",
    "nyxus.mapVar='c2'\n",
    "nyxus.neighborDist = 5\n",
    "nyxus.pixelPerMicron = 0.83612\n",
    "nyxus.outDir = out_dir['NyxusPlugin']\n",
    "\n",
    "# 'x0{x}_y0{y}_wx{t}_wy{p}_c1.ome.tif'"
   ]
  },
  {
   "cell_type": "code",
   "execution_count": 24,
   "metadata": {},
   "outputs": [
    {
     "name": "stderr",
     "output_type": "stream",
     "text": [
      "16-Nov-22 10:40:42 - polus.plugins - INFO     - Running container with GPU: --gpus all. NyxusPlugin version 0.1.2\n",
      "16-Nov-22 15:40:43 - main     - INFO     - Parsing arguments...\n",
      "16-Nov-22 15:40:43 - main     - INFO     - inpDir = /data/inputs/input0\n",
      "16-Nov-22 15:40:43 - main     - INFO     - segDir = /data/inputs/input1\n",
      "16-Nov-22 15:40:43 - main     - INFO     - filePattern = x{x+}.*c1.ome.tif\n",
      "16-Nov-22 15:40:43 - main     - INFO     - mapVar = c2\n",
      "16-Nov-22 15:40:43 - main     - INFO     - features = BASIC_MORPHOLOGY,ALL_INTENSITY\n",
      "16-Nov-22 15:40:43 - main     - INFO     - neighborDist = 5.0\n",
      "16-Nov-22 15:40:43 - main     - INFO     - pixelPerMicron = 0.83612\n",
      "16-Nov-22 15:40:43 - main     - INFO     - outDir = /data/outputs/output0\n",
      "16-Nov-22 15:40:43 - main     - INFO     - Total number of replicates found: ['01']\n",
      "16-Nov-22 15:40:43 - main     - INFO     - mapVar: c2\n",
      "16-Nov-22 15:40:43 - main     - INFO     - filepattern is x01.*c1.ome.tif\n",
      "16-Nov-22 15:40:43 - main     - INFO     - ['x01_y01_wx0_wy0_c1.ome.tif', 'x01_y01_wx0_wy0_c2.ome.tif', 'x01_y01_wx0_wy1_c1.ome.tif', 'x01_y01_wx0_wy1_c2.ome.tif', 'x01_y01_wx0_wy2_c1.ome.tif', 'x01_y01_wx0_wy2_c2.ome.tif', 'x01_y01_wx1_wy0_c1.ome.tif', 'x01_y01_wx1_wy0_c2.ome.tif', 'x01_y01_wx1_wy1_c1.ome.tif', 'x01_y01_wx1_wy1_c2.ome.tif', 'x01_y01_wx1_wy2_c1.ome.tif', 'x01_y01_wx1_wy2_c2.ome.tif', 'x01_y01_wx2_wy0_c1.ome.tif', 'x01_y01_wx2_wy0_c2.ome.tif', 'x01_y01_wx2_wy1_c1.ome.tif', 'x01_y01_wx2_wy1_c2.ome.tif', 'x01_y01_wx2_wy2_c1.ome.tif', 'x01_y01_wx2_wy2_c2.ome.tif', 'x01_y02_wx0_wy0_c1.ome.tif', 'x01_y02_wx0_wy0_c2.ome.tif', 'x01_y02_wx0_wy1_c1.ome.tif', 'x01_y02_wx0_wy1_c2.ome.tif', 'x01_y02_wx0_wy2_c1.ome.tif', 'x01_y02_wx0_wy2_c2.ome.tif', 'x01_y02_wx1_wy0_c1.ome.tif', 'x01_y02_wx1_wy0_c2.ome.tif', 'x01_y02_wx1_wy1_c1.ome.tif', 'x01_y02_wx1_wy1_c2.ome.tif', 'x01_y02_wx1_wy2_c1.ome.tif', 'x01_y02_wx1_wy2_c2.ome.tif', 'x01_y02_wx2_wy0_c1.ome.tif', 'x01_y02_wx2_wy0_c2.ome.tif', 'x01_y02_wx2_wy1_c1.ome.tif', 'x01_y02_wx2_wy1_c2.ome.tif', 'x01_y02_wx2_wy2_c1.ome.tif', 'x01_y02_wx2_wy2_c2.ome.tif']\n",
      "16-Nov-22 15:40:44 - main     - INFO     - Time taken to finish nyxus feature extraction: 0.021 minutes!!!\n"
     ]
    },
    {
     "name": "stdout",
     "output_type": "stream",
     "text": [
      "\n"
     ]
    }
   ],
   "source": [
    "nyxus.run()"
   ]
  },
  {
   "cell_type": "code",
   "execution_count": 25,
   "metadata": {},
   "outputs": [
    {
     "data": {
      "text/plain": [
       "['inpDir',\n",
       " 'metaDir',\n",
       " 'mappingvariableName',\n",
       " 'negControl',\n",
       " 'posControl',\n",
       " 'variableName',\n",
       " 'thresholdType',\n",
       " 'falsePositiverate',\n",
       " 'numBins',\n",
       " 'n',\n",
       " 'outFormat',\n",
       " 'outDir']"
      ]
     },
     "execution_count": 25,
     "metadata": {},
     "output_type": "execute_result"
    }
   ],
   "source": [
    "[inp.name for inp in threshold.inputs + threshold.outputs]"
   ]
  },
  {
   "cell_type": "code",
   "execution_count": 26,
   "metadata": {},
   "outputs": [],
   "source": [
    "threshold.inpDir = out_dir['NyxusPlugin']\n",
    "threshold.metaDir = '/home/ben/polus-plugins/data/eastman/meta/'\n",
    "threshold.outDir = out_dir['TabularThresholdingPlugin']\n",
    "threshold.mappingvariableName = 'intensity_image'\n",
    "threshold.negControl = 'virus_negative'\n",
    "threshold.posControl = 'virus_neutral'\n",
    "threshold.variableName = 'MEAN'\n",
    "threshold.thresholdType = 'all'\n",
    "numBins = 512\n",
    "threshold.falsePositiverate = 0.1\n",
    "# threshold.n = '4'\n",
    "outFormat = 'csv'\n"
   ]
  },
  {
   "cell_type": "code",
   "execution_count": 27,
   "metadata": {},
   "outputs": [
    {
     "name": "stderr",
     "output_type": "stream",
     "text": [
      "16-Nov-22 10:40:44 - polus.plugins - INFO     - Running container with GPU: --gpus all. TabularThresholdingPlugin version 0.1.0\n",
      "16-Nov-22 15:40:46 - main     - INFO     - Parsing arguments...\n",
      "16-Nov-22 15:40:46 - main     - INFO     - inpDir = /data/inputs/input0\n",
      "16-Nov-22 15:40:46 - main     - INFO     - metaDir = /data/inputs/input1\n",
      "16-Nov-22 15:40:46 - main     - INFO     - mappingvariableName = intensity_image\n",
      "16-Nov-22 15:40:46 - main     - INFO     - outDir = /data/outputs/output0\n",
      "16-Nov-22 15:40:46 - main     - INFO     - negControl = virus_negative\n",
      "16-Nov-22 15:40:46 - main     - INFO     - posControl = virus_neutral\n",
      "16-Nov-22 15:40:46 - main     - INFO     - variableName = MEAN\n",
      "16-Nov-22 15:40:46 - main     - INFO     - thresholdType = all\n",
      "16-Nov-22 15:40:46 - main     - INFO     - falsePositiverate = 0.1\n",
      "16-Nov-22 15:40:46 - main     - INFO     - numBins = 512\n",
      "16-Nov-22 15:40:46 - main     - INFO     - n = 4\n",
      "16-Nov-22 15:40:46 - main     - INFO     - outFormat = csv\n",
      "16-Nov-22 15:40:46 - main     - INFO     - Number of CSVs detected: 1, filenames: ['x01.csv']\n",
      "16-Nov-22 15:40:46 - main     - INFO     - Number of CSVs detected: 1, filenames: ['meta.csv']\n",
      "16-Nov-22 15:40:46 - main     - INFO     - Number of CSVs detected: 1, filenames: ['meta.csv']\n",
      "16-Nov-22 15:40:46 - main     - INFO     - Saving Thresholds in JSON fileformat /data/outputs/output0/x01_thresholds.json\n",
      "16-Nov-22 15:40:46 - main     - INFO     - Saving f'x01_binary.csv\n",
      "16-Nov-22 15:40:46 - main     - INFO     - Time taken to process binary threhold CSVs: 0.004 minutes!!!\n"
     ]
    },
    {
     "name": "stdout",
     "output_type": "stream",
     "text": [
      "\n"
     ]
    }
   ],
   "source": [
    "threshold.run()"
   ]
  },
  {
   "cell_type": "code",
   "execution_count": null,
   "metadata": {},
   "outputs": [],
   "source": []
  },
  {
   "cell_type": "code",
   "execution_count": 28,
   "metadata": {},
   "outputs": [],
   "source": [
    "# for file in out_dir['NyxusPlugin'].iterdir():\n",
    "#     with open(file, 'r') as fr:\n",
    "#         lines = fr.readlines()\n",
    "#         lines[0] = lines[0].replace('intensity_image', 'file')\n",
    "#         fr.close()\n",
    "    \n",
    "#     with open(file, 'w') as fw:\n",
    "#         fw.writelines(lines)"
   ]
  },
  {
   "cell_type": "code",
   "execution_count": 29,
   "metadata": {},
   "outputs": [
    {
     "data": {
      "text/plain": [
       "['statistics', 'inpDir', 'filePattern', 'groupBy', 'outDir']"
      ]
     },
     "execution_count": 29,
     "metadata": {},
     "output_type": "execute_result"
    }
   ],
   "source": [
    "[inp.name for inp in csv.inputs + csv.outputs]"
   ]
  },
  {
   "cell_type": "code",
   "execution_count": 30,
   "metadata": {},
   "outputs": [],
   "source": [
    "csv.inpDir = out_dir['NyxusPlugin']\n",
    "csv.statistics = 'Mean'\n",
    "csv.filePattern = 'x0{x}_y0{y}_wx{t}_wy{p}_c2.ome.tif'\n",
    "csv.groupBy = 'tp'\n",
    "csv.outDir = out_dir['CsvStatistics']"
   ]
  },
  {
   "cell_type": "code",
   "execution_count": 31,
   "metadata": {},
   "outputs": [],
   "source": [
    "# csv.run()"
   ]
  },
  {
   "cell_type": "code",
   "execution_count": null,
   "metadata": {},
   "outputs": [],
   "source": []
  }
 ],
 "metadata": {
  "kernelspec": {
   "display_name": "Python 3.10.6 ('polus-plugins')",
   "language": "python",
   "name": "python3"
  },
  "language_info": {
   "codemirror_mode": {
    "name": "ipython",
    "version": 3
   },
   "file_extension": ".py",
   "mimetype": "text/x-python",
   "name": "python",
   "nbconvert_exporter": "python",
   "pygments_lexer": "ipython3",
   "version": "3.10.6"
  },
  "orig_nbformat": 4,
  "vscode": {
   "interpreter": {
    "hash": "53f2d05ab41ad01012fc99731db73cd0052575fd301b1ff35d89d9b9660a7c8b"
   }
  }
 },
 "nbformat": 4,
 "nbformat_minor": 2
}
