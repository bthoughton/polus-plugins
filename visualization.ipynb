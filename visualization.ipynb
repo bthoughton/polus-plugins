{
 "cells": [
  {
   "cell_type": "code",
   "execution_count": 1,
   "metadata": {},
   "outputs": [],
   "source": [
    "import os\n",
    "import shutil\n",
    "import json\n",
    "import polus.plugins\n",
    "from polus.plugins import plugins\n",
    "from pathlib import Path\n",
    "from pprint import pprint"
   ]
  },
  {
   "cell_type": "code",
   "execution_count": 3,
   "metadata": {},
   "outputs": [
    {
     "name": "stdout",
     "output_type": "stream",
     "text": [
      "['https://raw.githubusercontent.com/Nicholas-Schaub/polus-plugins/fix/flatfield/regression/polus-basic-flatfield-correction-plugin/plugin.json',\n",
      " 'https://raw.githubusercontent.com/Nicholas-Schaub/polus-plugins/fix/flatfield/transforms/images/polus-apply-flatfield-plugin/plugin.json',\n",
      " 'https://raw.githubusercontent.com/bthoughton/polus-plugins/fix/montage/transforms/images/polus-montage-plugin/plugin.json',\n",
      " 'https://raw.githubusercontent.com/PolusAI/polus-plugins/dev/transforms/images/polus-image-assembler-plugin/plugin.json',\n",
      " 'https://raw.githubusercontent.com/PolusAI/polus-plugins/master/visualization/polus-precompute-slide-plugin/plugin.json']\n"
     ]
    }
   ],
   "source": [
    "manifest_path = Path('__file__').with_name('manifests.json')\n",
    "with open(manifest_path, 'r') as fr:\n",
    "    manifest_urls = json.load(fr)\n",
    "    fr.close()\n",
    "    \n",
    "pprint(manifest_urls)"
   ]
  },
  {
   "cell_type": "code",
   "execution_count": 4,
   "metadata": {},
   "outputs": [
    {
     "name": "stdout",
     "output_type": "stream",
     "text": [
      "['ApplyFlatfield', 'BasicFlatfieldCorrectionPlugin', 'ImageAssembler', 'Montage', 'PolusPrecomputeSlidePlugin', 'PolusPrecomputeVolumePlugin']\n"
     ]
    }
   ],
   "source": [
    "for url in manifest_urls:\n",
    "    polus.plugins.submit_plugin(url, refresh=True)\n",
    "    \n",
    "print(plugins.list)"
   ]
  },
  {
   "cell_type": "code",
   "execution_count": 5,
   "metadata": {},
   "outputs": [
    {
     "name": "stdout",
     "output_type": "stream",
     "text": [
      "The number of input images is 6908\n",
      "\n",
      "The first 5 images:\n",
      "['p00_x01_y01_wx0_wy0_c1.ome.tif',\n",
      " 'p00_x01_y01_wx0_wy0_c2.ome.tif',\n",
      " 'p00_x01_y01_wx0_wy1_c1.ome.tif',\n",
      " 'p00_x01_y01_wx0_wy1_c2.ome.tif',\n",
      " 'p00_x01_y01_wx0_wy2_c1.ome.tif']\n",
      "\n",
      "The last 5 images:\n",
      "['p00_x24_y16_wx2_wy0_c2.ome.tif',\n",
      " 'p00_x24_y16_wx2_wy1_c1.ome.tif',\n",
      " 'p00_x24_y16_wx2_wy1_c2.ome.tif',\n",
      " 'p00_x24_y16_wx2_wy2_c1.ome.tif',\n",
      " 'p00_x24_y16_wx2_wy2_c2.ome.tif']\n"
     ]
    }
   ],
   "source": [
    "inp_dir = Path('/home/ec2-user/subset/intensity/')\n",
    "assert inp_dir.exists(), \"The input directory does not exist\"\n",
    "\n",
    "inp_files = [file.name for file in inp_dir.iterdir()]\n",
    "inp_files.sort()\n",
    "print('The number of input images is {}'.format(len(inp_files)))\n",
    "print('\\nThe first 5 images:')\n",
    "pprint(inp_files[:5])\n",
    "print('\\nThe last 5 images:')\n",
    "pprint(inp_files[-5:])\n",
    "\n",
    "file_pattern = 'p00_x{xx}_y{yy}_wx{t}_wy{p}_c{c}.ome.tif'"
   ]
  },
  {
   "cell_type": "code",
   "execution_count": 6,
   "metadata": {},
   "outputs": [
    {
     "name": "stdout",
     "output_type": "stream",
     "text": [
      "{'ApplyFlatfield': PosixPath('/home/ec2-user/subset/visualization-out/ApplyFlatfield'),\n",
      " 'BasicFlatfieldCorrectionPlugin': PosixPath('/home/ec2-user/subset/visualization-out/BasicFlatfieldCorrectionPlugin'),\n",
      " 'ImageAssembler': PosixPath('/home/ec2-user/subset/visualization-out/ImageAssembler'),\n",
      " 'Montage': PosixPath('/home/ec2-user/subset/visualization-out/Montage'),\n",
      " 'PolusPrecomputeSlidePlugin': PosixPath('/home/ec2-user/subset/visualization-out/PolusPrecomputeSlidePlugin')}\n"
     ]
    }
   ],
   "source": [
    "out_dir = {}\n",
    "parent_out_dir = Path('/home/ec2-user/subset/visualization-out')\n",
    "workflow = [\n",
    "    'ApplyFlatfield', 'BasicFlatfieldCorrectionPlugin', 'ImageAssembler', 'Montage', 'PolusPrecomputeSlidePlugin'\n",
    "    ]\n",
    "\n",
    "if not parent_out_dir.exists():\n",
    "    os.mkdir(parent_out_dir)\n",
    "\n",
    "for name in workflow:\n",
    "    out_dir[name] = parent_out_dir.joinpath(name)\n",
    "    if out_dir[name].exists():\n",
    "        continue\n",
    "        ### CAUTION THIS REMOVES OLD OUT DIRECTORIES\n",
    "        shutil.rmtree(out_dir[name])\n",
    "    elif name :\n",
    "        os.mkdir(out_dir[name])\n",
    "    \n",
    "pprint(out_dir)"
   ]
  },
  {
   "cell_type": "code",
   "execution_count": 7,
   "metadata": {},
   "outputs": [],
   "source": [
    "flatfield_corr = plugins.BasicFlatfieldCorrectionPlugin\n",
    "apply_flatfield = plugins.ApplyFlatfield\n",
    "montage = plugins.Montage\n",
    "assembler = plugins.ImageAssembler\n",
    "precompute = plugins.PolusPrecomputeSlidePlugin"
   ]
  },
  {
   "cell_type": "code",
   "execution_count": 8,
   "metadata": {},
   "outputs": [
    {
     "data": {
      "text/plain": [
       "['inpDir', 'filePattern', 'darkfield', 'photobleach', 'groupBy', 'outDir']"
      ]
     },
     "execution_count": 8,
     "metadata": {},
     "output_type": "execute_result"
    }
   ],
   "source": [
    "[inp.name for inp in flatfield_corr.inputs + flatfield_corr.outputs]"
   ]
  },
  {
   "cell_type": "code",
   "execution_count": 9,
   "metadata": {},
   "outputs": [
    {
     "name": "stdout",
     "output_type": "stream",
     "text": [
      "inpDir = /home/ec2-user/subset/intensity\n",
      "filePattern = p00_x{xx}_y{yy}_wx{t}_wy{p}_c{c}.ome.tif\n",
      "darkfield = True\n",
      "photobleach = False\n",
      "groupBy = xytp\n",
      "outDir = /home/ec2-user/subset/visualization-out/BasicFlatfieldCorrectionPlugin\n"
     ]
    }
   ],
   "source": [
    "flatfield_corr.inpDir = inp_dir\n",
    "flatfield_corr.filePattern = file_pattern\n",
    "flatfield_corr.darkfield = True\n",
    "flatfield_corr.photobleach = False\n",
    "flatfield_corr.groupBy = 'xytp'\n",
    "flatfield_corr.outDir = str(out_dir['BasicFlatfieldCorrectionPlugin'])\n",
    "\n",
    "for inp in flatfield_corr.inputs + flatfield_corr.outputs:\n",
    "    print('{} = {}'.format(inp.name, inp.value))"
   ]
  },
  {
   "cell_type": "code",
   "execution_count": 22,
   "metadata": {},
   "outputs": [
    {
     "name": "stderr",
     "output_type": "stream",
     "text": [
      "16-Sep-22 14:43:53 - polus.plugins - INFO     - Running container without GPU. BasicFlatfieldCorrectionPlugin version 1.2.8\n",
      "16-Sep-22 14:43:54 - main - INFO - Parsing arguments...\n",
      "16-Sep-22 14:43:54 - main - INFO - input_dir = /data/inputs/input0\n",
      "16-Sep-22 14:43:54 - main - INFO - get_darkfield = True\n",
      "16-Sep-22 14:43:54 - main - INFO - get_photobleach = False\n",
      "16-Sep-22 14:43:54 - main - INFO - file_pattern = p00_x{xx}_y{yy}_wx{t}_wy{p}_c{c}.ome.tif\n",
      "16-Sep-22 14:43:54 - main - INFO - output_dir = /data/outputs/output0/images\n",
      "16-Sep-22 14:43:55 - proc 1 - INFO - p00_x(01-24)_y(01-16)_wx(0-2)_wy(0-2)_c1.ome.tif: Loading and sorting images...\n",
      "16-Sep-22 14:44:25 - basic - INFO - Processes   0.00% complete\n",
      "16-Sep-22 14:44:29 - proc 1 - INFO - p00_x(01-24)_y(01-16)_wx(0-2)_wy(0-2)_c1.ome.tif: Beginning flatfield estimation\n",
      "16-Sep-22 14:44:55 - basic - INFO - Processes   0.00% complete\n",
      "16-Sep-22 14:45:25 - basic - INFO - Processes   0.00% complete\n",
      "16-Sep-22 14:45:40 - proc 1 - INFO - p00_x(01-24)_y(01-16)_wx(0-2)_wy(0-2)_c1.ome.tif: Iteration 1 loss: 0.20167024551253587\n",
      "16-Sep-22 14:45:55 - basic - INFO - Processes   0.00% complete\n",
      "16-Sep-22 14:46:25 - basic - INFO - Processes   0.00% complete\n",
      "16-Sep-22 14:46:51 - proc 1 - INFO - p00_x(01-24)_y(01-16)_wx(0-2)_wy(0-2)_c1.ome.tif: Iteration 2 loss: 0.00965999753617031\n",
      "16-Sep-22 14:46:55 - basic - INFO - Processes   0.00% complete\n",
      "16-Sep-22 14:47:25 - basic - INFO - Processes   0.00% complete\n",
      "16-Sep-22 14:47:55 - basic - INFO - Processes   0.00% complete\n",
      "16-Sep-22 14:48:01 - proc 1 - INFO - p00_x(01-24)_y(01-16)_wx(0-2)_wy(0-2)_c1.ome.tif: Iteration 3 loss: 0.002685587637880443\n",
      "16-Sep-22 14:48:25 - basic - INFO - Processes   0.00% complete\n",
      "16-Sep-22 14:48:55 - basic - INFO - Processes   0.00% complete\n",
      "16-Sep-22 14:49:11 - proc 1 - INFO - p00_x(01-24)_y(01-16)_wx(0-2)_wy(0-2)_c1.ome.tif: Iteration 4 loss: 0.0008338279016721792\n",
      "16-Sep-22 14:49:25 - basic - INFO - Processes   0.00% complete\n",
      "16-Sep-22 14:49:55 - basic - INFO - Processes   0.00% complete\n",
      "16-Sep-22 14:50:21 - proc 1 - INFO - p00_x(01-24)_y(01-16)_wx(0-2)_wy(0-2)_c1.ome.tif: Iteration 5 loss: 0.00028383729339460267\n",
      "16-Sep-22 14:50:25 - basic - INFO - Processes   0.00% complete\n",
      "16-Sep-22 14:50:55 - basic - INFO - Processes   0.00% complete\n",
      "16-Sep-22 14:51:25 - basic - INFO - Processes   0.00% complete\n",
      "16-Sep-22 14:51:32 - proc 1 - INFO - p00_x(01-24)_y(01-16)_wx(0-2)_wy(0-2)_c1.ome.tif: Iteration 6 loss: 9.924421297765006e-05\n",
      "16-Sep-22 14:51:55 - basic - INFO - Processes   0.00% complete\n",
      "16-Sep-22 14:52:25 - basic - INFO - Processes   0.00% complete\n",
      "16-Sep-22 14:52:42 - proc 1 - INFO - p00_x(01-24)_y(01-16)_wx(0-2)_wy(0-2)_c1.ome.tif: Iteration 7 loss: 2.4319884125577503e-05\n",
      "16-Sep-22 14:52:55 - basic - INFO - Processes   0.00% complete\n",
      "16-Sep-22 14:53:25 - basic - INFO - Processes   0.00% complete\n",
      "16-Sep-22 14:53:52 - proc 1 - INFO - p00_x(01-24)_y(01-16)_wx(0-2)_wy(0-2)_c1.ome.tif: Iteration 8 loss: 1.1770903026236747e-05\n",
      "16-Sep-22 14:53:55 - basic - INFO - Processes   0.00% complete\n",
      "16-Sep-22 14:54:25 - basic - INFO - Processes   0.00% complete\n",
      "16-Sep-22 14:54:55 - basic - INFO - Processes   0.00% complete\n",
      "16-Sep-22 14:55:04 - proc 1 - INFO - p00_x(01-24)_y(01-16)_wx(0-2)_wy(0-2)_c1.ome.tif: Iteration 9 loss: 1.9886823961741256e-06\n",
      "16-Sep-22 14:55:04 - proc 1 - INFO - p00_x(01-24)_y(01-16)_wx(0-2)_wy(0-2)_c1.ome.tif: Saving outputs...\n",
      "16-Sep-22 14:55:04 - proc 1 - INFO - p00_x(01-24)_y(01-16)_wx(0-2)_wy(0-2)_c2.ome.tif: Loading and sorting images...\n",
      "16-Sep-22 14:55:25 - basic - INFO - Processes  50.00% complete\n",
      "16-Sep-22 14:55:55 - basic - INFO - Processes  50.00% complete\n",
      "16-Sep-22 14:56:00 - proc 1 - INFO - p00_x(01-24)_y(01-16)_wx(0-2)_wy(0-2)_c2.ome.tif: Beginning flatfield estimation\n",
      "16-Sep-22 14:56:25 - basic - INFO - Processes  50.00% complete\n",
      "16-Sep-22 14:56:55 - basic - INFO - Processes  50.00% complete\n",
      "16-Sep-22 14:57:06 - proc 1 - INFO - p00_x(01-24)_y(01-16)_wx(0-2)_wy(0-2)_c2.ome.tif: Iteration 1 loss: 0.13275394884167355\n",
      "16-Sep-22 14:57:25 - basic - INFO - Processes  50.00% complete\n",
      "16-Sep-22 14:57:55 - basic - INFO - Processes  50.00% complete\n",
      "16-Sep-22 14:58:11 - proc 1 - INFO - p00_x(01-24)_y(01-16)_wx(0-2)_wy(0-2)_c2.ome.tif: Iteration 2 loss: 0.014768265420141594\n",
      "16-Sep-22 14:58:25 - basic - INFO - Processes  50.00% complete\n",
      "16-Sep-22 14:58:55 - basic - INFO - Processes  50.00% complete\n",
      "16-Sep-22 14:59:17 - proc 1 - INFO - p00_x(01-24)_y(01-16)_wx(0-2)_wy(0-2)_c2.ome.tif: Iteration 3 loss: 0.0063386176325943445\n",
      "16-Sep-22 14:59:25 - basic - INFO - Processes  50.00% complete\n",
      "16-Sep-22 14:59:55 - basic - INFO - Processes  50.00% complete\n",
      "16-Sep-22 15:00:22 - proc 1 - INFO - p00_x(01-24)_y(01-16)_wx(0-2)_wy(0-2)_c2.ome.tif: Iteration 4 loss: 0.002673103061884813\n",
      "16-Sep-22 15:00:25 - basic - INFO - Processes  50.00% complete\n",
      "16-Sep-22 15:00:55 - basic - INFO - Processes  50.00% complete\n",
      "16-Sep-22 15:01:25 - basic - INFO - Processes  50.00% complete\n",
      "16-Sep-22 15:01:28 - proc 1 - INFO - p00_x(01-24)_y(01-16)_wx(0-2)_wy(0-2)_c2.ome.tif: Iteration 5 loss: 0.001031318823599278\n",
      "16-Sep-22 15:01:55 - basic - INFO - Processes  50.00% complete\n",
      "16-Sep-22 15:02:25 - basic - INFO - Processes  50.00% complete\n",
      "16-Sep-22 15:02:34 - proc 1 - INFO - p00_x(01-24)_y(01-16)_wx(0-2)_wy(0-2)_c2.ome.tif: Iteration 6 loss: 0.000466891179241041\n",
      "16-Sep-22 15:02:55 - basic - INFO - Processes  50.00% complete\n",
      "16-Sep-22 15:03:25 - basic - INFO - Processes  50.00% complete\n",
      "16-Sep-22 15:03:39 - proc 1 - INFO - p00_x(01-24)_y(01-16)_wx(0-2)_wy(0-2)_c2.ome.tif: Iteration 7 loss: 0.00026552279960453116\n",
      "16-Sep-22 15:03:55 - basic - INFO - Processes  50.00% complete\n",
      "16-Sep-22 15:04:25 - basic - INFO - Processes  50.00% complete\n",
      "16-Sep-22 15:04:45 - proc 1 - INFO - p00_x(01-24)_y(01-16)_wx(0-2)_wy(0-2)_c2.ome.tif: Iteration 8 loss: 0.0001595946822025601\n",
      "16-Sep-22 15:04:55 - basic - INFO - Processes  50.00% complete\n",
      "16-Sep-22 15:05:25 - basic - INFO - Processes  50.00% complete\n",
      "16-Sep-22 15:05:50 - proc 1 - INFO - p00_x(01-24)_y(01-16)_wx(0-2)_wy(0-2)_c2.ome.tif: Iteration 9 loss: 7.255059606735165e-05\n",
      "16-Sep-22 15:05:55 - basic - INFO - Processes  50.00% complete\n",
      "16-Sep-22 15:06:25 - basic - INFO - Processes  50.00% complete\n",
      "16-Sep-22 15:06:55 - basic - INFO - Processes  50.00% complete\n",
      "16-Sep-22 15:06:56 - proc 1 - INFO - p00_x(01-24)_y(01-16)_wx(0-2)_wy(0-2)_c2.ome.tif: Iteration 10 loss: 5.857850374931069e-05\n",
      "16-Sep-22 15:06:56 - proc 1 - INFO - p00_x(01-24)_y(01-16)_wx(0-2)_wy(0-2)_c2.ome.tif: Saving outputs...\n",
      "16-Sep-22 15:06:57 - basic - INFO - Processes 100.00% complete\n"
     ]
    },
    {
     "name": "stdout",
     "output_type": "stream",
     "text": [
      "\n"
     ]
    }
   ],
   "source": [
    "flatfield_corr.run(gpus=None)"
   ]
  },
  {
   "cell_type": "code",
   "execution_count": 10,
   "metadata": {},
   "outputs": [
    {
     "data": {
      "text/plain": [
       "['darkPattern',\n",
       " 'ffDir',\n",
       " 'brightPattern',\n",
       " 'imgDir',\n",
       " 'imgPattern',\n",
       " 'photoPattern',\n",
       " 'outDir']"
      ]
     },
     "execution_count": 10,
     "metadata": {},
     "output_type": "execute_result"
    }
   ],
   "source": [
    "[inp.name for inp in apply_flatfield.inputs + apply_flatfield.outputs]"
   ]
  },
  {
   "cell_type": "code",
   "execution_count": 11,
   "metadata": {},
   "outputs": [
    {
     "name": "stdout",
     "output_type": "stream",
     "text": [
      "darkPattern = p00_x(01-24)_y(01-16)_wx(0-2)_wy(0-2)_c{c}_darkfield.ome.tif\n",
      "ffDir = /home/ec2-user/subset/visualization-out/BasicFlatfieldCorrectionPlugin\n",
      "brightPattern = p00_x(01-24)_y(01-16)_wx(0-2)_wy(0-2)_c{c}_flatfield.ome.tif\n",
      "imgDir = /home/ec2-user/subset/intensity\n",
      "imgPattern = p00_x{xx}_y{yy}_wx{t}_wy{p}_c{c}.ome.tif\n",
      "photoPattern = None\n",
      "outDir = /home/ec2-user/subset/visualization-out/ApplyFlatfield\n"
     ]
    }
   ],
   "source": [
    "apply_flatfield.imgDir = inp_dir\n",
    "apply_flatfield.imgPattern = file_pattern\n",
    "apply_flatfield.ffDir = out_dir['BasicFlatfieldCorrectionPlugin']\n",
    "apply_flatfield.brightPattern = 'p00_x(01-24)_y(01-16)_wx(0-2)_wy(0-2)_c{c}_flatfield.ome.tif'\n",
    "apply_flatfield.darkPattern = 'p00_x(01-24)_y(01-16)_wx(0-2)_wy(0-2)_c{c}_darkfield.ome.tif'\n",
    "apply_flatfield.outDir = out_dir['ApplyFlatfield']\n",
    "\n",
    "for inp in apply_flatfield.inputs + apply_flatfield.outputs:\n",
    "    print('{} = {}'.format(inp.name, inp.value))"
   ]
  },
  {
   "cell_type": "code",
   "execution_count": 32,
   "metadata": {},
   "outputs": [
    {
     "name": "stderr",
     "output_type": "stream",
     "text": [
      "16-Sep-22 15:43:51 - polus.plugins - INFO     - Running container without GPU. ApplyFlatfield version 1.0.6\n"
     ]
    },
    {
     "name": "stdout",
     "output_type": "stream",
     "text": [
      "Unable to find image 'labshare/polus-apply-flatfield-plugin:1.0.6' locally\n",
      "1.0.6: Pulling from labshare/polus-apply-flatfield-plugin\n",
      "c549ccf8d472: Already exists\n",
      "e920f29c01be: Already exists\n",
      "7ad2a8fabcac: Already exists\n",
      "b3bf2315b004: Already exists\n",
      "46e2d4d94b50: Already exists\n",
      "354e28b2d647: Already exists\n",
      "8126bbab890d: Pulling fs layer\n",
      "0abb870dfc7a: Pulling fs layer\n",
      "48c5046985f3: Pulling fs layer\n",
      "0abb870dfc7a: Verifying Checksum\n",
      "0abb870dfc7a: Download complete\n",
      "8126bbab890d: Verifying Checksum\n",
      "8126bbab890d: Download complete\n",
      "48c5046985f3: Verifying Checksum\n",
      "48c5046985f3: Download complete\n",
      "8126bbab890d: Pull complete\n",
      "0abb870dfc7a: Pull complete\n",
      "48c5046985f3: Pull complete\n",
      "Digest: sha256:0dfe9e979f1b168589ed2fa3ba1db78999ba1f28c98592250a22a9bfde9098d6\n",
      "Status: Downloaded newer image for labshare/polus-apply-flatfield-plugin:1.0.6\n",
      "docker.io/labshare/polus-apply-flatfield-plugin:1.0.6\n"
     ]
    },
    {
     "name": "stderr",
     "output_type": "stream",
     "text": [
      "16-Sep-22 15:43:53 - main     - INFO     - Parsing arguments...\n",
      "16-Sep-22 15:43:53 - main     - INFO     - darkPattern = p00_x(01-24)_y(01-16)_wx(0-2)_wy(0-2)_c{c}_darkfield.ome.tif\n",
      "16-Sep-22 15:43:53 - main     - INFO     - ffDir = /data/inputs/input0/images\n",
      "16-Sep-22 15:43:53 - main     - INFO     - brightPattern = p00_x(01-24)_y(01-16)_wx(0-2)_wy(0-2)_c{c}_flatfield.ome.tif\n",
      "16-Sep-22 15:43:53 - main     - INFO     - imgDir = /data/inputs/input1\n",
      "16-Sep-22 15:43:53 - main     - INFO     - imgPattern = p00_x{xx}_y{yy}_wx{t}_wy{p}_c{c}.ome.tif\n",
      "16-Sep-22 15:43:53 - main     - INFO     - photoPattern = None\n",
      "16-Sep-22 15:43:53 - main     - INFO     - outDir = /data/outputs/output0\n",
      "16-Sep-22 15:44:04 - unshade 1 - INFO     -   2.29% complete\n",
      "16-Sep-22 15:44:14 - unshade 1 - INFO     -   4.31% complete\n",
      "16-Sep-22 15:44:23 - main     - INFO     - Processes   0.00% complete\n",
      "16-Sep-22 15:44:24 - unshade 1 - INFO     -   6.46% complete\n",
      "16-Sep-22 15:44:34 - unshade 1 - INFO     -   8.14% complete\n",
      "16-Sep-22 15:44:44 - unshade 1 - INFO     -  10.25% complete\n",
      "16-Sep-22 15:44:53 - main     - INFO     - Processes   0.00% complete\n",
      "16-Sep-22 15:44:54 - unshade 1 - INFO     -  12.25% complete\n",
      "16-Sep-22 15:45:04 - unshade 1 - INFO     -  14.19% complete\n",
      "16-Sep-22 15:45:14 - unshade 1 - INFO     -  16.42% complete\n",
      "16-Sep-22 15:45:23 - main     - INFO     - Processes   0.00% complete\n",
      "16-Sep-22 15:45:24 - unshade 1 - INFO     -  18.15% complete\n",
      "16-Sep-22 15:45:34 - unshade 1 - INFO     -  20.47% complete\n",
      "16-Sep-22 15:45:44 - unshade 1 - INFO     -  22.09% complete\n",
      "16-Sep-22 15:45:53 - main     - INFO     - Processes   0.00% complete\n",
      "16-Sep-22 15:45:54 - unshade 1 - INFO     -  24.41% complete\n",
      "16-Sep-22 15:46:04 - unshade 1 - INFO     -  26.03% complete\n",
      "16-Sep-22 15:46:14 - unshade 1 - INFO     -  28.26% complete\n",
      "16-Sep-22 15:46:23 - main     - INFO     - Processes   0.00% complete\n",
      "16-Sep-22 15:46:24 - unshade 1 - INFO     -  29.91% complete\n",
      "16-Sep-22 15:46:34 - unshade 1 - INFO     -  32.17% complete\n",
      "16-Sep-22 15:46:44 - unshade 1 - INFO     -  33.82% complete\n",
      "16-Sep-22 15:46:53 - main     - INFO     - Processes   0.00% complete\n",
      "16-Sep-22 15:46:54 - unshade 1 - INFO     -  36.13% complete\n",
      "16-Sep-22 15:47:04 - unshade 1 - INFO     -  37.87% complete\n",
      "16-Sep-22 15:47:14 - unshade 1 - INFO     -  40.13% complete\n",
      "16-Sep-22 15:47:23 - main     - INFO     - Processes   0.00% complete\n",
      "16-Sep-22 15:47:24 - unshade 1 - INFO     -  41.81% complete\n",
      "16-Sep-22 15:47:34 - unshade 1 - INFO     -  44.06% complete\n",
      "16-Sep-22 15:47:44 - unshade 1 - INFO     -  45.74% complete\n",
      "16-Sep-22 15:47:53 - main     - INFO     - Processes   0.00% complete\n",
      "16-Sep-22 15:47:54 - unshade 1 - INFO     -  48.06% complete\n",
      "16-Sep-22 15:48:04 - unshade 1 - INFO     -  49.77% complete\n",
      "16-Sep-22 15:48:14 - unshade 1 - INFO     -  51.91% complete\n",
      "16-Sep-22 15:48:23 - main     - INFO     - Processes   0.00% complete\n",
      "16-Sep-22 15:48:24 - unshade 1 - INFO     -  53.79% complete\n",
      "16-Sep-22 15:48:34 - unshade 1 - INFO     -  55.70% complete\n",
      "16-Sep-22 15:48:44 - unshade 1 - INFO     -  57.73% complete\n",
      "16-Sep-22 15:48:53 - main     - INFO     - Processes   0.00% complete\n",
      "16-Sep-22 15:48:54 - unshade 1 - INFO     -  59.44% complete\n",
      "16-Sep-22 15:49:04 - unshade 1 - INFO     -  61.73% complete\n",
      "16-Sep-22 15:49:14 - unshade 1 - INFO     -  63.40% complete\n",
      "16-Sep-22 15:49:23 - main     - INFO     - Processes   0.00% complete\n",
      "16-Sep-22 15:49:24 - unshade 1 - INFO     -  65.72% complete\n",
      "16-Sep-22 15:49:34 - unshade 1 - INFO     -  67.46% complete\n",
      "16-Sep-22 15:49:44 - unshade 1 - INFO     -  69.83% complete\n",
      "16-Sep-22 15:49:53 - main     - INFO     - Processes   0.00% complete\n",
      "16-Sep-22 15:49:54 - unshade 1 - INFO     -  71.60% complete\n",
      "16-Sep-22 15:50:04 - unshade 1 - INFO     -  73.94% complete\n",
      "16-Sep-22 15:50:14 - unshade 1 - INFO     -  75.77% complete\n",
      "16-Sep-22 15:50:23 - main     - INFO     - Processes   0.00% complete\n",
      "16-Sep-22 15:50:24 - unshade 1 - INFO     -  78.11% complete\n",
      "16-Sep-22 15:50:34 - unshade 1 - INFO     -  79.88% complete\n",
      "16-Sep-22 15:50:44 - unshade 1 - INFO     -  82.11% complete\n",
      "16-Sep-22 15:50:53 - main     - INFO     - Processes   0.00% complete\n",
      "16-Sep-22 15:50:54 - unshade 1 - INFO     -  83.93% complete\n",
      "16-Sep-22 15:51:04 - unshade 1 - INFO     -  86.10% complete\n",
      "16-Sep-22 15:51:14 - unshade 1 - INFO     -  88.04% complete\n",
      "16-Sep-22 15:51:23 - main     - INFO     - Processes   0.00% complete\n",
      "16-Sep-22 15:51:24 - unshade 1 - INFO     -  90.01% complete\n",
      "16-Sep-22 15:51:34 - unshade 1 - INFO     -  92.04% complete\n",
      "16-Sep-22 15:51:44 - unshade 1 - INFO     -  93.98% complete\n",
      "16-Sep-22 15:51:53 - main     - INFO     - Processes   0.00% complete\n",
      "16-Sep-22 15:51:54 - unshade 1 - INFO     -  96.03% complete\n",
      "16-Sep-22 15:52:04 - unshade 1 - INFO     -  97.89% complete\n",
      "16-Sep-22 15:52:14 - unshade 1 - INFO     - 100.00% complete\n",
      "16-Sep-22 15:52:23 - main     - INFO     - Processes  50.00% complete\n",
      "16-Sep-22 15:52:24 - unshade 1 - INFO     -  51.17% complete\n",
      "16-Sep-22 15:52:34 - unshade 1 - INFO     -  52.37% complete\n",
      "16-Sep-22 15:52:44 - unshade 1 - INFO     -  53.56% complete\n",
      "16-Sep-22 15:52:53 - main     - INFO     - Processes  50.00% complete\n",
      "16-Sep-22 15:52:54 - unshade 1 - INFO     -  54.69% complete\n",
      "16-Sep-22 15:53:04 - unshade 1 - INFO     -  55.88% complete\n",
      "16-Sep-22 15:53:14 - unshade 1 - INFO     -  56.83% complete\n",
      "16-Sep-22 15:53:23 - main     - INFO     - Processes  50.00% complete\n",
      "16-Sep-22 15:53:24 - unshade 1 - INFO     -  58.12% complete\n",
      "16-Sep-22 15:53:34 - unshade 1 - INFO     -  59.11% complete\n",
      "16-Sep-22 15:53:44 - unshade 1 - INFO     -  60.42% complete\n",
      "16-Sep-22 15:53:53 - main     - INFO     - Processes  50.00% complete\n",
      "16-Sep-22 15:53:54 - unshade 1 - INFO     -  61.42% complete\n",
      "16-Sep-22 15:54:04 - unshade 1 - INFO     -  62.72% complete\n",
      "16-Sep-22 15:54:14 - unshade 1 - INFO     -  63.77% complete\n",
      "16-Sep-22 15:54:23 - main     - INFO     - Processes  50.00% complete\n",
      "16-Sep-22 15:54:24 - unshade 1 - INFO     -  65.07% complete\n",
      "16-Sep-22 15:54:35 - unshade 1 - INFO     -  66.08% complete\n",
      "16-Sep-22 15:54:45 - unshade 1 - INFO     -  67.44% complete\n",
      "16-Sep-22 15:54:53 - main     - INFO     - Processes  50.00% complete\n",
      "16-Sep-22 15:54:55 - unshade 1 - INFO     -  68.57% complete\n",
      "16-Sep-22 15:55:05 - unshade 1 - INFO     -  69.90% complete\n",
      "16-Sep-22 15:55:15 - unshade 1 - INFO     -  70.95% complete\n",
      "16-Sep-22 15:55:23 - main     - INFO     - Processes  50.00% complete\n",
      "16-Sep-22 15:55:25 - unshade 1 - INFO     -  72.12% complete\n",
      "16-Sep-22 15:55:35 - unshade 1 - INFO     -  73.35% complete\n",
      "16-Sep-22 15:55:45 - unshade 1 - INFO     -  74.44% complete\n",
      "16-Sep-22 15:55:53 - main     - INFO     - Processes  50.00% complete\n",
      "16-Sep-22 15:55:55 - unshade 1 - INFO     -  75.83% complete\n",
      "16-Sep-22 15:56:05 - unshade 1 - INFO     -  76.90% complete\n",
      "16-Sep-22 15:56:15 - unshade 1 - INFO     -  78.29% complete\n",
      "16-Sep-22 15:56:23 - main     - INFO     - Processes  50.00% complete\n",
      "16-Sep-22 15:56:25 - unshade 1 - INFO     -  79.33% complete\n",
      "16-Sep-22 15:56:35 - unshade 1 - INFO     -  80.69% complete\n",
      "16-Sep-22 15:56:45 - unshade 1 - INFO     -  81.75% complete\n",
      "16-Sep-22 15:56:53 - main     - INFO     - Processes  50.00% complete\n",
      "16-Sep-22 15:56:55 - unshade 1 - INFO     -  83.11% complete\n",
      "16-Sep-22 15:57:05 - unshade 1 - INFO     -  84.16% complete\n",
      "16-Sep-22 15:57:15 - unshade 1 - INFO     -  85.55% complete\n",
      "16-Sep-22 15:57:23 - main     - INFO     - Processes  50.00% complete\n",
      "16-Sep-22 15:57:25 - unshade 1 - INFO     -  86.58% complete\n",
      "16-Sep-22 15:57:35 - unshade 1 - INFO     -  87.77% complete\n",
      "16-Sep-22 15:57:45 - unshade 1 - INFO     -  88.88% complete\n",
      "16-Sep-22 15:57:53 - main     - INFO     - Processes  50.00% complete\n",
      "16-Sep-22 15:57:55 - unshade 1 - INFO     -  90.04% complete\n",
      "16-Sep-22 15:58:05 - unshade 1 - INFO     -  91.23% complete\n",
      "16-Sep-22 15:58:15 - unshade 1 - INFO     -  92.26% complete\n",
      "16-Sep-22 15:58:23 - main     - INFO     - Processes  50.00% complete\n",
      "16-Sep-22 15:58:25 - unshade 1 - INFO     -  93.57% complete\n",
      "16-Sep-22 15:58:35 - unshade 1 - INFO     -  94.57% complete\n",
      "16-Sep-22 15:58:45 - unshade 1 - INFO     -  95.90% complete\n",
      "16-Sep-22 15:58:53 - main     - INFO     - Processes  50.00% complete\n",
      "16-Sep-22 15:58:55 - unshade 1 - INFO     -  96.95% complete\n",
      "16-Sep-22 15:59:06 - unshade 1 - INFO     -  98.23% complete\n",
      "16-Sep-22 15:59:16 - unshade 1 - INFO     -  99.26% complete\n",
      "16-Sep-22 15:59:21 - unshade 1 - INFO     - 100.00% complete\n",
      "16-Sep-22 15:59:21 - main     - INFO     - Processes 100.00% complete\n"
     ]
    },
    {
     "name": "stdout",
     "output_type": "stream",
     "text": [
      "\n"
     ]
    }
   ],
   "source": [
    "apply_flatfield.run(gpus=None)"
   ]
  },
  {
   "cell_type": "code",
   "execution_count": 12,
   "metadata": {},
   "outputs": [
    {
     "data": {
      "text/plain": [
       "['filePattern',\n",
       " 'inpDir',\n",
       " 'layout',\n",
       " 'imageSpacing',\n",
       " 'gridSpacing',\n",
       " 'flipAxis',\n",
       " 'outDir']"
      ]
     },
     "execution_count": 12,
     "metadata": {},
     "output_type": "execute_result"
    }
   ],
   "source": [
    "[inp.name for inp in montage.inputs + montage.outputs]"
   ]
  },
  {
   "cell_type": "code",
   "execution_count": 13,
   "metadata": {},
   "outputs": [
    {
     "name": "stdout",
     "output_type": "stream",
     "text": [
      "filePattern = p00_x{xx}_y{yy}_wx{t}_wy{p}_c{c}.ome.tif\n",
      "inpDir = /home/ec2-user/subset/visualization-out/ApplyFlatfield\n",
      "layout = tp, xy\n",
      "imageSpacing = 1\n",
      "gridSpacing = 20\n",
      "flipAxis = p\n",
      "outDir = /home/ec2-user/subset/visualization-out/Montage\n"
     ]
    }
   ],
   "source": [
    "montage.inpDir = out_dir['ApplyFlatfield']\n",
    "montage.filePattern = 'p00_x{xx}_y{yy}_wx{t}_wy{p}_c{c}.ome.tif' # Montage only channel 1\n",
    "montage.layout = 'tp, xy'\n",
    "montage.imageSpacing = 1\n",
    "montage.gridSpacing = 20\n",
    "montage.flipAxis = 'p' # this has to be specified or the plugin will return error this is a bug\n",
    "montage.outDir = out_dir['Montage']\n",
    "\n",
    "for inp in montage.inputs + montage.outputs:\n",
    "    print('{} = {}'.format(inp.name, inp.value))"
   ]
  },
  {
   "cell_type": "code",
   "execution_count": 14,
   "metadata": {},
   "outputs": [
    {
     "name": "stderr",
     "output_type": "stream",
     "text": [
      "20-Sep-22 20:03:15 - polus.plugins - INFO     - Running container without GPU. Montage version 0.4.0\n",
      "20-Sep-22 20:03:16 - main - INFO - Parsing arguments...\n",
      "20-Sep-22 20:03:16 - main - INFO - filePattern = p00_x{xx}_y{yy}_wx{t}_wy{p}_c{c}.ome.tif\n",
      "20-Sep-22 20:03:16 - main - INFO - inpDir = /data/inputs/input0\n",
      "20-Sep-22 20:03:16 - main - INFO - layout = tp, xy\n",
      "20-Sep-22 20:03:16 - main - INFO - flipAxis = p\n",
      "20-Sep-22 20:03:16 - main - INFO - outDir = /data/outputs/output0\n",
      "20-Sep-22 20:03:16 - main - INFO - image_spacing = 1\n",
      "20-Sep-22 20:03:16 - main - INFO - grid_spacing = 20\n",
      "20-Sep-22 20:03:16 - main - INFO - Parsing the file pattern...\n",
      "20-Sep-22 20:03:16 - main - INFO - Parsing the layout...\n",
      "20-Sep-22 20:03:16 - main - INFO - Get the size of every image...\n",
      "20-Sep-22 20:03:24 - main - INFO - Grid size for layer (tp): [3, 3]\n",
      "20-Sep-22 20:03:24 - main - INFO - Grid size for layer (xy): [24, 16]\n",
      "20-Sep-22 20:03:24 - main - INFO - Final image size in pixels: [78312, 52208]\n",
      "20-Sep-22 20:03:24 - main - INFO - Building stitching vector p00_x(01-24)_y(01-16)_wx(0-2)_wy(0-2)_c1.txt\n",
      "20-Sep-22 20:03:24 - main - INFO - Building stitching vector p00_x(01-24)_y(01-16)_wx(0-2)_wy(0-2)_c2.txt\n",
      "20-Sep-22 20:03:24 - main - INFO - Done!\n"
     ]
    },
    {
     "name": "stdout",
     "output_type": "stream",
     "text": [
      "\n"
     ]
    }
   ],
   "source": [
    "montage.run(gpus=None)"
   ]
  },
  {
   "cell_type": "code",
   "execution_count": 15,
   "metadata": {},
   "outputs": [
    {
     "name": "stdout",
     "output_type": "stream",
     "text": [
      "[PosixPath('/home/ec2-user/subset/visualization-out/Montage/p00_x(01-24)_y(01-16)_wx(0-2)_wy(0-2)_c1.txt'),\n",
      " PosixPath('/home/ec2-user/subset/visualization-out/Montage/p00_x(01-24)_y(01-16)_wx(0-2)_wy(0-2)_c2.txt')]\n"
     ]
    }
   ],
   "source": [
    "vector_paths = [p for p in out_dir['Montage'].iterdir()]\n",
    "pprint(vector_paths)"
   ]
  },
  {
   "cell_type": "code",
   "execution_count": 16,
   "metadata": {},
   "outputs": [
    {
     "name": "stdout",
     "output_type": "stream",
     "text": [
      "['file: p00_x01_y01_wx0_wy0_c1.ome.tif; corr: 0; position: (0, 2162); grid: '\n",
      " '(0, 2);',\n",
      " 'file: p00_x01_y01_wx0_wy1_c1.ome.tif; corr: 0; position: (0, 1081); grid: '\n",
      " '(0, 1);',\n",
      " 'file: p00_x01_y01_wx0_wy2_c1.ome.tif; corr: 0; position: (0, 0); grid: (0, '\n",
      " '0);',\n",
      " 'file: p00_x02_y01_wx0_wy0_c1.ome.tif; corr: 0; position: (3263, 2162); grid: '\n",
      " '(3, 2);',\n",
      " 'file: p00_x02_y01_wx0_wy1_c1.ome.tif; corr: 0; position: (3263, 1081); grid: '\n",
      " '(3, 1);']\n",
      "3454\n"
     ]
    }
   ],
   "source": [
    "vector_c1 = []\n",
    "\n",
    "with open(vector_paths[0], 'r') as fr:\n",
    "    for line in fr:\n",
    "        s = line.strip()\n",
    "        vector_c1.append(s)\n",
    "    fr.close()\n",
    "    \n",
    "# pprint(vector)\n",
    "pprint(vector_c1[:5])\n",
    "print(len(vector_c1))"
   ]
  },
  {
   "cell_type": "code",
   "execution_count": 17,
   "metadata": {},
   "outputs": [
    {
     "name": "stdout",
     "output_type": "stream",
     "text": [
      "[PosixPath('/home/ec2-user/subset/visualization-out/Montage/img-global-positions-1.txt'),\n",
      " PosixPath('/home/ec2-user/subset/visualization-out/Montage/img-global-positions-2.txt')]\n"
     ]
    }
   ],
   "source": [
    "for i, path in enumerate(vector_paths):\n",
    "    os.rename(path, path.with_name('img-global-positions-{}.txt'.format(i+1)))\n",
    "    \n",
    "vector_paths = [p for p in out_dir['Montage'].iterdir()]\n",
    "pprint(vector_paths)"
   ]
  },
  {
   "cell_type": "code",
   "execution_count": 18,
   "metadata": {},
   "outputs": [
    {
     "data": {
      "text/plain": [
       "['stitchPath', 'imgPath', 'timesliceNaming', 'outDir']"
      ]
     },
     "execution_count": 18,
     "metadata": {},
     "output_type": "execute_result"
    }
   ],
   "source": [
    "[inp.name for inp in assembler.inputs + assembler.outputs]"
   ]
  },
  {
   "cell_type": "code",
   "execution_count": 19,
   "metadata": {},
   "outputs": [
    {
     "name": "stdout",
     "output_type": "stream",
     "text": [
      "stitchPath = /home/ec2-user/subset/visualization-out/Montage\n",
      "imgPath = /home/ec2-user/subset/visualization-out/ApplyFlatfield\n",
      "timesliceNaming = True\n",
      "outDir = /home/ec2-user/subset/visualization-out/ImageAssembler\n"
     ]
    }
   ],
   "source": [
    "assembler.imgPath = out_dir['ApplyFlatfield']\n",
    "assembler.stitchPath = out_dir['Montage']\n",
    "assembler.outDir = out_dir['ImageAssembler']\n",
    "assembler.timesliceNaming = True\n",
    "\n",
    "for inp in assembler.inputs + assembler.outputs:\n",
    "    print('{} = {}'.format(inp.name, inp.value))"
   ]
  },
  {
   "cell_type": "code",
   "execution_count": 20,
   "metadata": {},
   "outputs": [
    {
     "name": "stderr",
     "output_type": "stream",
     "text": [
      "20-Sep-22 20:04:03 - polus.plugins - INFO     - Running container without GPU. ImageAssembler version 1.1.4\n",
      "20-Sep-22 20:04:04 - main - INFO - imgPath: /data/inputs/input1\n",
      "20-Sep-22 20:04:04 - main - INFO - outDir: /data/outputs/output0\n",
      "20-Sep-22 20:04:04 - main - INFO - timesliceNaming: False\n",
      "20-Sep-22 20:04:04 - main - INFO - stitchPath: /data/inputs/input0\n",
      "20-Sep-22 20:04:04 - main - INFO - Inferred file pattern: p00_x{rr}_y{tt}_wx{c}_wy{z}_c{y}.ome.tif\n",
      "20-Sep-22 20:04:05 - asmbl 1 - INFO - p00_x(01-24)_y(01-16)_wx(0-2)_wy(0-2)_c1.ome.tif: Inferred output file name from vector.\n",
      "20-Sep-22 20:04:05 - asmbl 1 - INFO - p00_x(01-24)_y(01-16)_wx(0-2)_wy(0-2)_c1.ome.tif: Begin assembly\n",
      "20-Sep-22 20:04:05 - asmbl 1 - INFO - p00_x(01-24)_y(01-16)_wx(0-2)_wy(0-2)_c1.ome.tif: Assembling Z position : 0\n",
      "20-Sep-22 20:04:15 - asmbl 1 - INFO - p00_x(01-24)_y(01-16)_wx(0-2)_wy(0-2)_c1.ome.tif:   2.86% complete\n",
      "20-Sep-22 20:04:25 - asmbl 1 - INFO - p00_x(01-24)_y(01-16)_wx(0-2)_wy(0-2)_c1.ome.tif:   5.71% complete\n",
      "20-Sep-22 20:04:35 - main - INFO - Processes   0.00% complete\n",
      "20-Sep-22 20:04:35 - asmbl 1 - INFO - p00_x(01-24)_y(01-16)_wx(0-2)_wy(0-2)_c1.ome.tif:  10.00% complete\n",
      "20-Sep-22 20:04:45 - asmbl 1 - INFO - p00_x(01-24)_y(01-16)_wx(0-2)_wy(0-2)_c1.ome.tif:  12.86% complete\n",
      "20-Sep-22 20:04:55 - asmbl 1 - INFO - p00_x(01-24)_y(01-16)_wx(0-2)_wy(0-2)_c1.ome.tif:  15.71% complete\n",
      "20-Sep-22 20:05:05 - main - INFO - Processes   0.00% complete\n",
      "20-Sep-22 20:05:05 - asmbl 1 - INFO - p00_x(01-24)_y(01-16)_wx(0-2)_wy(0-2)_c1.ome.tif:  20.00% complete\n",
      "20-Sep-22 20:05:15 - asmbl 1 - INFO - p00_x(01-24)_y(01-16)_wx(0-2)_wy(0-2)_c1.ome.tif:  22.86% complete\n",
      "20-Sep-22 20:05:25 - asmbl 1 - INFO - p00_x(01-24)_y(01-16)_wx(0-2)_wy(0-2)_c1.ome.tif:  25.71% complete\n",
      "20-Sep-22 20:05:35 - main - INFO - Processes   0.00% complete\n",
      "20-Sep-22 20:05:35 - asmbl 1 - INFO - p00_x(01-24)_y(01-16)_wx(0-2)_wy(0-2)_c1.ome.tif:  30.00% complete\n",
      "20-Sep-22 20:05:45 - asmbl 1 - INFO - p00_x(01-24)_y(01-16)_wx(0-2)_wy(0-2)_c1.ome.tif:  32.86% complete\n",
      "20-Sep-22 20:05:55 - asmbl 1 - INFO - p00_x(01-24)_y(01-16)_wx(0-2)_wy(0-2)_c1.ome.tif:  35.71% complete\n",
      "20-Sep-22 20:06:05 - main - INFO - Processes   0.00% complete\n",
      "20-Sep-22 20:06:05 - asmbl 1 - INFO - p00_x(01-24)_y(01-16)_wx(0-2)_wy(0-2)_c1.ome.tif:  40.00% complete\n",
      "20-Sep-22 20:06:15 - asmbl 1 - INFO - p00_x(01-24)_y(01-16)_wx(0-2)_wy(0-2)_c1.ome.tif:  42.86% complete\n",
      "20-Sep-22 20:06:25 - asmbl 1 - INFO - p00_x(01-24)_y(01-16)_wx(0-2)_wy(0-2)_c1.ome.tif:  45.71% complete\n",
      "20-Sep-22 20:06:35 - main - INFO - Processes   0.00% complete\n",
      "20-Sep-22 20:06:35 - asmbl 1 - INFO - p00_x(01-24)_y(01-16)_wx(0-2)_wy(0-2)_c1.ome.tif:  50.00% complete\n",
      "20-Sep-22 20:06:45 - asmbl 1 - INFO - p00_x(01-24)_y(01-16)_wx(0-2)_wy(0-2)_c1.ome.tif:  52.86% complete\n",
      "20-Sep-22 20:06:55 - asmbl 1 - INFO - p00_x(01-24)_y(01-16)_wx(0-2)_wy(0-2)_c1.ome.tif:  55.71% complete\n",
      "20-Sep-22 20:07:05 - main - INFO - Processes   0.00% complete\n",
      "20-Sep-22 20:07:05 - asmbl 1 - INFO - p00_x(01-24)_y(01-16)_wx(0-2)_wy(0-2)_c1.ome.tif:  60.00% complete\n",
      "20-Sep-22 20:07:15 - asmbl 1 - INFO - p00_x(01-24)_y(01-16)_wx(0-2)_wy(0-2)_c1.ome.tif:  62.86% complete\n",
      "20-Sep-22 20:07:25 - asmbl 1 - INFO - p00_x(01-24)_y(01-16)_wx(0-2)_wy(0-2)_c1.ome.tif:  65.71% complete\n",
      "20-Sep-22 20:07:35 - main - INFO - Processes   0.00% complete\n",
      "20-Sep-22 20:07:35 - asmbl 1 - INFO - p00_x(01-24)_y(01-16)_wx(0-2)_wy(0-2)_c1.ome.tif:  70.00% complete\n",
      "20-Sep-22 20:07:45 - asmbl 1 - INFO - p00_x(01-24)_y(01-16)_wx(0-2)_wy(0-2)_c1.ome.tif:  72.86% complete\n",
      "20-Sep-22 20:07:55 - asmbl 1 - INFO - p00_x(01-24)_y(01-16)_wx(0-2)_wy(0-2)_c1.ome.tif:  75.71% complete\n",
      "20-Sep-22 20:08:05 - main - INFO - Processes   0.00% complete\n",
      "20-Sep-22 20:08:05 - asmbl 1 - INFO - p00_x(01-24)_y(01-16)_wx(0-2)_wy(0-2)_c1.ome.tif:  80.00% complete\n",
      "20-Sep-22 20:08:15 - asmbl 1 - INFO - p00_x(01-24)_y(01-16)_wx(0-2)_wy(0-2)_c1.ome.tif:  84.29% complete\n",
      "20-Sep-22 20:08:25 - asmbl 1 - INFO - p00_x(01-24)_y(01-16)_wx(0-2)_wy(0-2)_c1.ome.tif:  85.71% complete\n",
      "20-Sep-22 20:08:35 - main - INFO - Processes   0.00% complete\n",
      "20-Sep-22 20:08:35 - asmbl 1 - INFO - p00_x(01-24)_y(01-16)_wx(0-2)_wy(0-2)_c1.ome.tif:  92.86% complete\n",
      "20-Sep-22 20:08:45 - asmbl 1 - INFO - p00_x(01-24)_y(01-16)_wx(0-2)_wy(0-2)_c1.ome.tif:  98.57% complete\n",
      "20-Sep-22 20:08:47 - asmbl 1 - INFO - p00_x(01-24)_y(01-16)_wx(0-2)_wy(0-2)_c1.ome.tif: 100.00% complete\n",
      "20-Sep-22 20:08:51 - asmbl 1 - INFO - p00_x(01-24)_y(01-16)_wx(0-2)_wy(0-2)_c2.ome.tif: Inferred output file name from vector.\n",
      "20-Sep-22 20:08:51 - asmbl 1 - INFO - p00_x(01-24)_y(01-16)_wx(0-2)_wy(0-2)_c2.ome.tif: Begin assembly\n",
      "20-Sep-22 20:08:51 - asmbl 1 - INFO - p00_x(01-24)_y(01-16)_wx(0-2)_wy(0-2)_c2.ome.tif: Assembling Z position : 0\n",
      "20-Sep-22 20:09:01 - asmbl 1 - INFO - p00_x(01-24)_y(01-16)_wx(0-2)_wy(0-2)_c2.ome.tif:  51.43% complete\n",
      "20-Sep-22 20:09:05 - main - INFO - Processes  50.00% complete\n",
      "20-Sep-22 20:09:11 - asmbl 1 - INFO - p00_x(01-24)_y(01-16)_wx(0-2)_wy(0-2)_c2.ome.tif:  53.57% complete\n",
      "20-Sep-22 20:09:21 - asmbl 1 - INFO - p00_x(01-24)_y(01-16)_wx(0-2)_wy(0-2)_c2.ome.tif:  55.71% complete\n",
      "20-Sep-22 20:09:31 - asmbl 1 - INFO - p00_x(01-24)_y(01-16)_wx(0-2)_wy(0-2)_c2.ome.tif:  57.14% complete\n",
      "20-Sep-22 20:09:35 - main - INFO - Processes  50.00% complete\n",
      "20-Sep-22 20:09:41 - asmbl 1 - INFO - p00_x(01-24)_y(01-16)_wx(0-2)_wy(0-2)_c2.ome.tif:  59.29% complete\n",
      "20-Sep-22 20:09:51 - asmbl 1 - INFO - p00_x(01-24)_y(01-16)_wx(0-2)_wy(0-2)_c2.ome.tif:  61.43% complete\n",
      "20-Sep-22 20:10:01 - asmbl 1 - INFO - p00_x(01-24)_y(01-16)_wx(0-2)_wy(0-2)_c2.ome.tif:  64.29% complete\n",
      "20-Sep-22 20:10:05 - main - INFO - Processes  50.00% complete\n",
      "20-Sep-22 20:10:11 - asmbl 1 - INFO - p00_x(01-24)_y(01-16)_wx(0-2)_wy(0-2)_c2.ome.tif:  65.00% complete\n",
      "20-Sep-22 20:10:21 - asmbl 1 - INFO - p00_x(01-24)_y(01-16)_wx(0-2)_wy(0-2)_c2.ome.tif:  67.14% complete\n",
      "20-Sep-22 20:10:31 - asmbl 1 - INFO - p00_x(01-24)_y(01-16)_wx(0-2)_wy(0-2)_c2.ome.tif:  70.00% complete\n",
      "20-Sep-22 20:10:35 - main - INFO - Processes  50.00% complete\n",
      "20-Sep-22 20:10:41 - asmbl 1 - INFO - p00_x(01-24)_y(01-16)_wx(0-2)_wy(0-2)_c2.ome.tif:  72.14% complete\n",
      "20-Sep-22 20:10:51 - asmbl 1 - INFO - p00_x(01-24)_y(01-16)_wx(0-2)_wy(0-2)_c2.ome.tif:  72.86% complete\n",
      "20-Sep-22 20:11:01 - asmbl 1 - INFO - p00_x(01-24)_y(01-16)_wx(0-2)_wy(0-2)_c2.ome.tif:  75.71% complete\n",
      "20-Sep-22 20:11:05 - main - INFO - Processes  50.00% complete\n",
      "20-Sep-22 20:11:11 - asmbl 1 - INFO - p00_x(01-24)_y(01-16)_wx(0-2)_wy(0-2)_c2.ome.tif:  77.86% complete\n",
      "20-Sep-22 20:11:21 - asmbl 1 - INFO - p00_x(01-24)_y(01-16)_wx(0-2)_wy(0-2)_c2.ome.tif:  80.00% complete\n",
      "20-Sep-22 20:11:31 - asmbl 1 - INFO - p00_x(01-24)_y(01-16)_wx(0-2)_wy(0-2)_c2.ome.tif:  81.43% complete\n",
      "20-Sep-22 20:11:35 - main - INFO - Processes  50.00% complete\n",
      "20-Sep-22 20:11:41 - asmbl 1 - INFO - p00_x(01-24)_y(01-16)_wx(0-2)_wy(0-2)_c2.ome.tif:  84.29% complete\n",
      "20-Sep-22 20:11:51 - asmbl 1 - INFO - p00_x(01-24)_y(01-16)_wx(0-2)_wy(0-2)_c2.ome.tif:  86.43% complete\n",
      "20-Sep-22 20:12:01 - asmbl 1 - INFO - p00_x(01-24)_y(01-16)_wx(0-2)_wy(0-2)_c2.ome.tif:  87.86% complete\n",
      "20-Sep-22 20:12:05 - main - INFO - Processes  50.00% complete\n",
      "20-Sep-22 20:12:11 - asmbl 1 - INFO - p00_x(01-24)_y(01-16)_wx(0-2)_wy(0-2)_c2.ome.tif:  90.00% complete\n",
      "20-Sep-22 20:12:21 - asmbl 1 - INFO - p00_x(01-24)_y(01-16)_wx(0-2)_wy(0-2)_c2.ome.tif:  92.14% complete\n",
      "20-Sep-22 20:12:31 - asmbl 1 - INFO - p00_x(01-24)_y(01-16)_wx(0-2)_wy(0-2)_c2.ome.tif:  95.00% complete\n",
      "20-Sep-22 20:12:35 - main - INFO - Processes  50.00% complete\n",
      "20-Sep-22 20:12:41 - asmbl 1 - INFO - p00_x(01-24)_y(01-16)_wx(0-2)_wy(0-2)_c2.ome.tif:  97.86% complete\n",
      "20-Sep-22 20:12:46 - asmbl 1 - INFO - p00_x(01-24)_y(01-16)_wx(0-2)_wy(0-2)_c2.ome.tif: 100.00% complete\n",
      "20-Sep-22 20:12:46 - main - INFO - Processes 100.00% complete\n"
     ]
    },
    {
     "name": "stdout",
     "output_type": "stream",
     "text": [
      "\n"
     ]
    }
   ],
   "source": [
    "assembler.run(gpus=None)"
   ]
  },
  {
   "cell_type": "code",
   "execution_count": 21,
   "metadata": {},
   "outputs": [
    {
     "data": {
      "text/plain": [
       "['p00_x(01-24)_y(01-16)_wx(0-2)_wy(0-2)_c1.ome.tif',\n",
       " 'p00_x(01-24)_y(01-16)_wx(0-2)_wy(0-2)_c2.ome.tif']"
      ]
     },
     "execution_count": 21,
     "metadata": {},
     "output_type": "execute_result"
    }
   ],
   "source": [
    "[img.name for img in out_dir['ImageAssembler'].iterdir()]"
   ]
  },
  {
   "cell_type": "code",
   "execution_count": 22,
   "metadata": {},
   "outputs": [
    {
     "data": {
      "text/plain": [
       "['inpDir', 'pyramidType', 'imageType', 'filePattern', 'outDir']"
      ]
     },
     "execution_count": 22,
     "metadata": {},
     "output_type": "execute_result"
    }
   ],
   "source": [
    "[inp.name for inp in precompute.inputs + precompute.outputs]"
   ]
  },
  {
   "cell_type": "code",
   "execution_count": 23,
   "metadata": {},
   "outputs": [
    {
     "name": "stdout",
     "output_type": "stream",
     "text": [
      "inpDir = /home/ec2-user/subset/visualization-out/ImageAssembler\n",
      "pyramidType = pyramidType.Zarr\n",
      "imageType = imageType.image\n",
      "filePattern = p00_x(01-24)_y(01-16)_wx(0-2)_wy(0-2)_c{c}.ome.tif\n",
      "outDir = /home/ec2-user/subset/visualization-out/PolusPrecomputeSlidePlugin\n"
     ]
    }
   ],
   "source": [
    "precompute.inpDir = out_dir['ImageAssembler']\n",
    "precompute.imageType = 'image'\n",
    "precompute.filePattern = 'p00_x(01-24)_y(01-16)_wx(0-2)_wy(0-2)_c{c}.ome.tif'\n",
    "precompute.pyramidType = 'Zarr'\n",
    "precompute.outDir = out_dir['PolusPrecomputeSlidePlugin']\n",
    "\n",
    "for inp in precompute.inputs + precompute.outputs:\n",
    "    print('{} = {}'.format(inp.name, inp.value))"
   ]
  },
  {
   "cell_type": "code",
   "execution_count": 24,
   "metadata": {},
   "outputs": [
    {
     "name": "stderr",
     "output_type": "stream",
     "text": [
      "20-Sep-22 20:13:30 - polus.plugins - INFO     - Running container without GPU. PolusPrecomputeSlidePlugin version 1.4.5\n",
      "20-Sep-22 20:13:32 - main - INFO - Parsing arguments...\n",
      "20-Sep-22 20:13:32 - main - INFO - input_dir = /data/inputs/input0\n",
      "20-Sep-22 20:13:32 - main - INFO - output_dir = /data/outputs/output0\n",
      "20-Sep-22 20:13:32 - main - INFO - pyramid_type = Zarr\n",
      "20-Sep-22 20:13:32 - main - INFO - image_type = image\n",
      "20-Sep-22 20:13:32 - main - INFO - file_pattern = p00_x(01-24)_y(01-16)_wx(0-2)_wy(0-2)_c{c}.ome.tif\n",
      "20-Sep-22 20:13:32 - main - INFO - max concurrent processes = 2\n",
      "20-Sep-22 20:13:32 - main - INFO - Stacking channels by c-dimension for Zarr format\n",
      "20-Sep-22 20:13:42 - proc 1 - INFO - /data/outputs/output0/p00_x(01-24)_y(01-16)_wx(0-2)_wy(0-2)_c(1-2) - 0:   0.00% complete\n",
      "20-Sep-22 20:13:42 - proc 2 - INFO - /data/outputs/output0/p00_x(01-24)_y(01-16)_wx(0-2)_wy(0-2)_c(1-2) - 1:   0.00% complete\n",
      "20-Sep-22 20:13:52 - proc 1 - INFO - /data/outputs/output0/p00_x(01-24)_y(01-16)_wx(0-2)_wy(0-2)_c(1-2) - 0:   0.00% complete\n",
      "20-Sep-22 20:13:52 - proc 2 - INFO - /data/outputs/output0/p00_x(01-24)_y(01-16)_wx(0-2)_wy(0-2)_c(1-2) - 1:   0.00% complete\n",
      "20-Sep-22 20:14:02 - proc 1 - INFO - /data/outputs/output0/p00_x(01-24)_y(01-16)_wx(0-2)_wy(0-2)_c(1-2) - 0:   0.00% complete\n",
      "20-Sep-22 20:14:02 - pyr - INFO - Processes   0.00% complete\n",
      "20-Sep-22 20:14:02 - proc 2 - INFO - /data/outputs/output0/p00_x(01-24)_y(01-16)_wx(0-2)_wy(0-2)_c(1-2) - 1:   0.00% complete\n",
      "20-Sep-22 20:14:12 - proc 1 - INFO - /data/outputs/output0/p00_x(01-24)_y(01-16)_wx(0-2)_wy(0-2)_c(1-2) - 0:   0.00% complete\n",
      "20-Sep-22 20:14:12 - proc 2 - INFO - /data/outputs/output0/p00_x(01-24)_y(01-16)_wx(0-2)_wy(0-2)_c(1-2) - 1:   0.00% complete\n",
      "20-Sep-22 20:14:22 - proc 1 - INFO - /data/outputs/output0/p00_x(01-24)_y(01-16)_wx(0-2)_wy(0-2)_c(1-2) - 0:   0.00% complete\n",
      "20-Sep-22 20:14:22 - proc 2 - INFO - /data/outputs/output0/p00_x(01-24)_y(01-16)_wx(0-2)_wy(0-2)_c(1-2) - 1:   0.00% complete\n",
      "20-Sep-22 20:14:32 - proc 1 - INFO - /data/outputs/output0/p00_x(01-24)_y(01-16)_wx(0-2)_wy(0-2)_c(1-2) - 0:   0.00% complete\n",
      "20-Sep-22 20:14:32 - pyr - INFO - Processes   0.00% complete\n",
      "20-Sep-22 20:14:32 - proc 2 - INFO - /data/outputs/output0/p00_x(01-24)_y(01-16)_wx(0-2)_wy(0-2)_c(1-2) - 1:   0.00% complete\n",
      "20-Sep-22 20:14:42 - proc 1 - INFO - /data/outputs/output0/p00_x(01-24)_y(01-16)_wx(0-2)_wy(0-2)_c(1-2) - 0:   0.00% complete\n",
      "20-Sep-22 20:14:42 - proc 2 - INFO - /data/outputs/output0/p00_x(01-24)_y(01-16)_wx(0-2)_wy(0-2)_c(1-2) - 1:   0.00% complete\n",
      "20-Sep-22 20:14:52 - proc 1 - INFO - /data/outputs/output0/p00_x(01-24)_y(01-16)_wx(0-2)_wy(0-2)_c(1-2) - 0:   0.00% complete\n",
      "20-Sep-22 20:14:52 - proc 2 - INFO - /data/outputs/output0/p00_x(01-24)_y(01-16)_wx(0-2)_wy(0-2)_c(1-2) - 1:   0.00% complete\n",
      "20-Sep-22 20:15:02 - proc 1 - INFO - /data/outputs/output0/p00_x(01-24)_y(01-16)_wx(0-2)_wy(0-2)_c(1-2) - 0:   0.00% complete\n",
      "20-Sep-22 20:15:02 - pyr - INFO - Processes   0.00% complete\n",
      "20-Sep-22 20:15:02 - proc 2 - INFO - /data/outputs/output0/p00_x(01-24)_y(01-16)_wx(0-2)_wy(0-2)_c(1-2) - 1:   0.00% complete\n",
      "20-Sep-22 20:15:12 - proc 1 - INFO - /data/outputs/output0/p00_x(01-24)_y(01-16)_wx(0-2)_wy(0-2)_c(1-2) - 0:   0.00% complete\n",
      "20-Sep-22 20:15:12 - proc 2 - INFO - /data/outputs/output0/p00_x(01-24)_y(01-16)_wx(0-2)_wy(0-2)_c(1-2) - 1:   0.00% complete\n",
      "20-Sep-22 20:15:22 - proc 1 - INFO - /data/outputs/output0/p00_x(01-24)_y(01-16)_wx(0-2)_wy(0-2)_c(1-2) - 0:   0.00% complete\n",
      "20-Sep-22 20:15:22 - proc 2 - INFO - /data/outputs/output0/p00_x(01-24)_y(01-16)_wx(0-2)_wy(0-2)_c(1-2) - 1:   0.00% complete\n",
      "20-Sep-22 20:15:32 - pyr - INFO - Processes   0.00% complete\n",
      "20-Sep-22 20:15:32 - proc 1 - INFO - /data/outputs/output0/p00_x(01-24)_y(01-16)_wx(0-2)_wy(0-2)_c(1-2) - 0:   0.00% complete\n",
      "20-Sep-22 20:15:32 - proc 2 - INFO - /data/outputs/output0/p00_x(01-24)_y(01-16)_wx(0-2)_wy(0-2)_c(1-2) - 1:   0.00% complete\n",
      "20-Sep-22 20:15:42 - proc 1 - INFO - /data/outputs/output0/p00_x(01-24)_y(01-16)_wx(0-2)_wy(0-2)_c(1-2) - 0:   0.00% complete\n",
      "20-Sep-22 20:15:42 - proc 2 - INFO - /data/outputs/output0/p00_x(01-24)_y(01-16)_wx(0-2)_wy(0-2)_c(1-2) - 1:   0.00% complete\n",
      "20-Sep-22 20:15:52 - proc 1 - INFO - /data/outputs/output0/p00_x(01-24)_y(01-16)_wx(0-2)_wy(0-2)_c(1-2) - 0:   0.00% complete\n",
      "20-Sep-22 20:15:52 - proc 2 - INFO - /data/outputs/output0/p00_x(01-24)_y(01-16)_wx(0-2)_wy(0-2)_c(1-2) - 1:   0.00% complete\n",
      "20-Sep-22 20:16:02 - pyr - INFO - Processes   0.00% complete\n",
      "20-Sep-22 20:16:02 - proc 2 - INFO - /data/outputs/output0/p00_x(01-24)_y(01-16)_wx(0-2)_wy(0-2)_c(1-2) - 1:   0.00% complete\n",
      "20-Sep-22 20:16:02 - proc 1 - INFO - /data/outputs/output0/p00_x(01-24)_y(01-16)_wx(0-2)_wy(0-2)_c(1-2) - 0:   0.00% complete\n",
      "20-Sep-22 20:16:12 - proc 2 - INFO - /data/outputs/output0/p00_x(01-24)_y(01-16)_wx(0-2)_wy(0-2)_c(1-2) - 1:   0.00% complete\n",
      "20-Sep-22 20:16:12 - proc 1 - INFO - /data/outputs/output0/p00_x(01-24)_y(01-16)_wx(0-2)_wy(0-2)_c(1-2) - 0:   0.00% complete\n",
      "20-Sep-22 20:16:22 - proc 2 - INFO - /data/outputs/output0/p00_x(01-24)_y(01-16)_wx(0-2)_wy(0-2)_c(1-2) - 1:   0.00% complete\n",
      "20-Sep-22 20:16:22 - proc 1 - INFO - /data/outputs/output0/p00_x(01-24)_y(01-16)_wx(0-2)_wy(0-2)_c(1-2) - 0:   0.00% complete\n",
      "20-Sep-22 20:16:30 - proc 2 - INFO - /data/outputs/output0/p00_x(01-24)_y(01-16)_wx(0-2)_wy(0-2)_c(1-2) - 1: 100.00% complete\n",
      "20-Sep-22 20:16:32 - pyr - INFO - Processes  50.00% complete\n",
      "20-Sep-22 20:16:32 - proc 1 - INFO - /data/outputs/output0/p00_x(01-24)_y(01-16)_wx(0-2)_wy(0-2)_c(1-2) - 0:   0.00% complete\n",
      "20-Sep-22 20:16:42 - proc 1 - INFO - /data/outputs/output0/p00_x(01-24)_y(01-16)_wx(0-2)_wy(0-2)_c(1-2) - 0:   0.00% complete\n",
      "20-Sep-22 20:16:52 - proc 1 - INFO - /data/outputs/output0/p00_x(01-24)_y(01-16)_wx(0-2)_wy(0-2)_c(1-2) - 0:   0.00% complete\n",
      "20-Sep-22 20:17:02 - pyr - INFO - Processes  50.00% complete\n",
      "20-Sep-22 20:17:02 - proc 1 - INFO - /data/outputs/output0/p00_x(01-24)_y(01-16)_wx(0-2)_wy(0-2)_c(1-2) - 0:   0.00% complete\n",
      "20-Sep-22 20:17:12 - proc 1 - INFO - /data/outputs/output0/p00_x(01-24)_y(01-16)_wx(0-2)_wy(0-2)_c(1-2) - 0:   0.00% complete\n",
      "20-Sep-22 20:17:17 - proc 1 - INFO - /data/outputs/output0/p00_x(01-24)_y(01-16)_wx(0-2)_wy(0-2)_c(1-2) - 0: 100.00% complete\n",
      "20-Sep-22 20:17:17 - pyr - INFO - Processes 100.00% complete\n"
     ]
    },
    {
     "name": "stdout",
     "output_type": "stream",
     "text": [
      "\n"
     ]
    }
   ],
   "source": [
    "precompute.run(gpus=None)"
   ]
  }
 ],
 "metadata": {
  "kernelspec": {
   "display_name": "Python 3.10.4 ('polus-plugins')",
   "language": "python",
   "name": "python3"
  },
  "language_info": {
   "codemirror_mode": {
    "name": "ipython",
    "version": 3
   },
   "file_extension": ".py",
   "mimetype": "text/x-python",
   "name": "python",
   "nbconvert_exporter": "python",
   "pygments_lexer": "ipython3",
   "version": "3.10.4"
  },
  "orig_nbformat": 4,
  "vscode": {
   "interpreter": {
    "hash": "cbd030ebe3e425cb12cbbaa765198e5eb80f2352c8805c5cec302100a362799e"
   }
  }
 },
 "nbformat": 4,
 "nbformat_minor": 2
}
